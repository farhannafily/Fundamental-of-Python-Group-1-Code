{
  "nbformat": 4,
  "nbformat_minor": 0,
  "metadata": {
    "colab": {
      "name": "Tugas Code- Python-3",
      "provenance": [],
      "collapsed_sections": [
        "AzGfgZpCT72z",
        "tuXAvFxPT_CL",
        "ud7OcOgUU442",
        "NUyHINSqg1py"
      ]
    },
    "kernelspec": {
      "name": "python3",
      "display_name": "Python 3"
    },
    "language_info": {
      "name": "python"
    }
  },
  "cells": [
    {
      "cell_type": "markdown",
      "source": [
        "#**Type Casting**\n",
        "\n",
        "Type Casting is the method to convert the variable data type into a certain data type in order to the operation required to be performed by users. Python has two types of Type Casting:\n",
        "1. Implicit Type Casting\n",
        "2. Explicit Type Casting"
      ],
      "metadata": {
        "id": "BSJ2ahjlT2lJ"
      }
    },
    {
      "cell_type": "markdown",
      "source": [
        "**Implicit Type Casting**\n",
        "\n",
        "In Implicit type casting, Python automatically converts one data type to another data type. This process doesn't need any user involvement."
      ],
      "metadata": {
        "id": "g86-9YL0UJdB"
      }
    },
    {
      "cell_type": "code",
      "execution_count": null,
      "metadata": {
        "id": "gUwCYD-iGinJ",
        "colab": {
          "base_uri": "https://localhost:8080/"
        },
        "outputId": "8068a159-944f-4506-dcbf-4abf44c321af"
      },
      "outputs": [
        {
          "output_type": "stream",
          "name": "stdout",
          "text": [
            "123 + 1.23 = 124.23\n",
            "Total data type is <class 'float'>\n"
          ]
        }
      ],
      "source": [
        "#Casting Integer to Float\n",
        "num_1 = 123\n",
        "num_2 = 1.23\n",
        "total = num_1 + num_2\n",
        "print(num_1,\"+\",num_2,\"=\",total)\n",
        "print(\"Total data type is\", type(total))"
      ]
    },
    {
      "cell_type": "markdown",
      "source": [
        "**Explicit Type Casting**\n",
        "\n",
        "In Explicit Type Casting, Python need user involvement to convert the variable data type into certain data type in order to the operation required.\n",
        "\n",
        "Mainly in type casting can be done with these data type function:\n",
        "\n",
        "- Int() : Int() function take float or string as an argument and return int type object.\n",
        "- float() : float() function take int or string as an argument and return float type object.\n",
        "- str() : str() function take float or int as an argument and return string type object.\n"
      ],
      "metadata": {
        "id": "gQVquYQmUTs0"
      }
    },
    {
      "cell_type": "code",
      "source": [
        "#Casting Integer to Float\n",
        "a = 15\n",
        "b = float(a)\n",
        "print(\"a =\", a, \"\\ndata type a is\", type(a))\n",
        "print(\"b = \", b, \"\\ndata type b is\", type(b))"
      ],
      "metadata": {
        "colab": {
          "base_uri": "https://localhost:8080/"
        },
        "id": "0vycyM6wUXvj",
        "outputId": "7896904f-d3be-48e8-d908-fde0a4faa26d"
      },
      "execution_count": null,
      "outputs": [
        {
          "output_type": "stream",
          "name": "stdout",
          "text": [
            "a = 15 \n",
            "data type a is <class 'int'>\n",
            "b =  15.0 \n",
            "data type b is <class 'float'>\n"
          ]
        }
      ]
    },
    {
      "cell_type": "code",
      "source": [
        "#Casting Float to Integer\n",
        "c = 27.9\n",
        "d = int(c)\n",
        "print(\"c =\", c, \"\\ndata type c is\", type(c))\n",
        "print(\"d = \", d, \"\\ndata type d is\", type(d))"
      ],
      "metadata": {
        "colab": {
          "base_uri": "https://localhost:8080/"
        },
        "id": "43T1rK6qUb2p",
        "outputId": "3e52e70e-e4b0-4ccf-f48b-31624b0e2c6e"
      },
      "execution_count": null,
      "outputs": [
        {
          "output_type": "stream",
          "name": "stdout",
          "text": [
            "c = 27.9 \n",
            "data type c is <class 'float'>\n",
            "d =  27 \n",
            "data type d is <class 'int'>\n"
          ]
        }
      ]
    },
    {
      "cell_type": "code",
      "source": [
        "#Casting Integer to String\n",
        "e = 24\n",
        "f = str(e)\n",
        "print(\"e =\", e, \"\\ndata type e is\", type(e))\n",
        "print(\"f = \", f, \"\\ndata type f is\", type(f))"
      ],
      "metadata": {
        "colab": {
          "base_uri": "https://localhost:8080/"
        },
        "id": "ALGmya5YUe3Q",
        "outputId": "d2d2a5a4-f7e9-4ade-91a7-2f6ddd7a7497"
      },
      "execution_count": null,
      "outputs": [
        {
          "output_type": "stream",
          "name": "stdout",
          "text": [
            "e = 24 \n",
            "data type e is <class 'int'>\n",
            "f =  24 \n",
            "data type f is <class 'str'>\n"
          ]
        }
      ]
    },
    {
      "cell_type": "code",
      "source": [
        "#Casting Float to String\n",
        "g = 41.8\n",
        "h = str(g)\n",
        "print(\"g =\", g, \"\\ndata type g is\", type(g))\n",
        "print(\"h = \", h, \"\\ndata type h is\", type(h))"
      ],
      "metadata": {
        "colab": {
          "base_uri": "https://localhost:8080/"
        },
        "id": "k5V4C5mOUhhL",
        "outputId": "286209d7-b2fc-40f6-eef1-6e188f5d1d71"
      },
      "execution_count": null,
      "outputs": [
        {
          "output_type": "stream",
          "name": "stdout",
          "text": [
            "g = 41.8 \n",
            "data type g is <class 'float'>\n",
            "h =  41.8 \n",
            "data type h is <class 'str'>\n"
          ]
        }
      ]
    },
    {
      "cell_type": "code",
      "source": [
        "#Casting String to Integer\n",
        "i = \"2022\"\n",
        "j = int(i)\n",
        "print(\"i =\", i, \"\\ndata type i is\", type(i))\n",
        "print(\"j = \", j, \"\\ndata type j is\", type(j))"
      ],
      "metadata": {
        "colab": {
          "base_uri": "https://localhost:8080/"
        },
        "id": "96E-hiIAUk5X",
        "outputId": "fc5e1fd6-a565-41f7-88bc-3875cac4a50d"
      },
      "execution_count": null,
      "outputs": [
        {
          "output_type": "stream",
          "name": "stdout",
          "text": [
            "i = 2022 \n",
            "data type i is <class 'str'>\n",
            "j =  2022 \n",
            "data type j is <class 'int'>\n"
          ]
        }
      ]
    },
    {
      "cell_type": "code",
      "source": [
        "#Casting String to Float\n",
        "k = \"72\"\n",
        "l = float(k)\n",
        "print(\"k =\", k, \"\\ndata type k is\", type(k))\n",
        "print(\"l =\", l, \"\\ndata type l is\", type(l))"
      ],
      "metadata": {
        "colab": {
          "base_uri": "https://localhost:8080/"
        },
        "id": "TkVhFJMGUnnm",
        "outputId": "45f5561c-952e-4172-d0ac-062a49082c6c"
      },
      "execution_count": null,
      "outputs": [
        {
          "output_type": "stream",
          "name": "stdout",
          "text": [
            "k = 72 \n",
            "data type k is <class 'str'>\n",
            "l = 72.0 \n",
            "data type l is <class 'float'>\n"
          ]
        }
      ]
    },
    {
      "cell_type": "code",
      "source": [
        "#Wrong casting example 1\n",
        "m = \"2Apr2022\"\n",
        "n = int(m)\n",
        "print(\"m =\", m, \"\\ndata type m is\", type(m))\n",
        "print(\"n =\", n, \"\\ndata type n is\", type(n))"
      ],
      "metadata": {
        "colab": {
          "base_uri": "https://localhost:8080/",
          "height": 234
        },
        "id": "KydH4MjBUqZH",
        "outputId": "b0ee47c9-e151-46ac-8e28-a727ee3d52f8"
      },
      "execution_count": null,
      "outputs": [
        {
          "output_type": "error",
          "ename": "ValueError",
          "evalue": "ignored",
          "traceback": [
            "\u001b[0;31m---------------------------------------------------------------------------\u001b[0m",
            "\u001b[0;31mValueError\u001b[0m                                Traceback (most recent call last)",
            "\u001b[0;32m<ipython-input-8-41184d975430>\u001b[0m in \u001b[0;36m<module>\u001b[0;34m()\u001b[0m\n\u001b[1;32m      1\u001b[0m \u001b[0;31m#Wrong casting example 1\u001b[0m\u001b[0;34m\u001b[0m\u001b[0;34m\u001b[0m\u001b[0;34m\u001b[0m\u001b[0m\n\u001b[1;32m      2\u001b[0m \u001b[0mm\u001b[0m \u001b[0;34m=\u001b[0m \u001b[0;34m\"2Apr2022\"\u001b[0m\u001b[0;34m\u001b[0m\u001b[0;34m\u001b[0m\u001b[0m\n\u001b[0;32m----> 3\u001b[0;31m \u001b[0mn\u001b[0m \u001b[0;34m=\u001b[0m \u001b[0mint\u001b[0m\u001b[0;34m(\u001b[0m\u001b[0mm\u001b[0m\u001b[0;34m)\u001b[0m\u001b[0;34m\u001b[0m\u001b[0;34m\u001b[0m\u001b[0m\n\u001b[0m\u001b[1;32m      4\u001b[0m \u001b[0mprint\u001b[0m\u001b[0;34m(\u001b[0m\u001b[0;34m\"m =\"\u001b[0m\u001b[0;34m,\u001b[0m \u001b[0mm\u001b[0m\u001b[0;34m,\u001b[0m \u001b[0;34m\"\\ndata type m is\"\u001b[0m\u001b[0;34m,\u001b[0m \u001b[0mtype\u001b[0m\u001b[0;34m(\u001b[0m\u001b[0mm\u001b[0m\u001b[0;34m)\u001b[0m\u001b[0;34m)\u001b[0m\u001b[0;34m\u001b[0m\u001b[0;34m\u001b[0m\u001b[0m\n\u001b[1;32m      5\u001b[0m \u001b[0mprint\u001b[0m\u001b[0;34m(\u001b[0m\u001b[0;34m\"n =\"\u001b[0m\u001b[0;34m,\u001b[0m \u001b[0mn\u001b[0m\u001b[0;34m,\u001b[0m \u001b[0;34m\"\\ndata type n is\"\u001b[0m\u001b[0;34m,\u001b[0m \u001b[0mtype\u001b[0m\u001b[0;34m(\u001b[0m\u001b[0mn\u001b[0m\u001b[0;34m)\u001b[0m\u001b[0;34m)\u001b[0m\u001b[0;34m\u001b[0m\u001b[0;34m\u001b[0m\u001b[0m\n",
            "\u001b[0;31mValueError\u001b[0m: invalid literal for int() with base 10: '2Apr2022'"
          ]
        }
      ]
    },
    {
      "cell_type": "code",
      "source": [
        "#Wrong casting example 2\n",
        "o = \"eight\"\n",
        "p = float(o)\n",
        "print(\"o =\", o, \"\\ndata type o is\", type(o))\n",
        "print(\"p =\", p, \"\\ndata type p is\", type(p))"
      ],
      "metadata": {
        "colab": {
          "base_uri": "https://localhost:8080/",
          "height": 234
        },
        "id": "Nh-Pmq3-UwTJ",
        "outputId": "8b4a5cdb-d627-4efe-9bbb-d47429022198"
      },
      "execution_count": null,
      "outputs": [
        {
          "output_type": "error",
          "ename": "ValueError",
          "evalue": "ignored",
          "traceback": [
            "\u001b[0;31m---------------------------------------------------------------------------\u001b[0m",
            "\u001b[0;31mValueError\u001b[0m                                Traceback (most recent call last)",
            "\u001b[0;32m<ipython-input-9-af36a2d48464>\u001b[0m in \u001b[0;36m<module>\u001b[0;34m()\u001b[0m\n\u001b[1;32m      1\u001b[0m \u001b[0;31m#Wrong casting example 2\u001b[0m\u001b[0;34m\u001b[0m\u001b[0;34m\u001b[0m\u001b[0;34m\u001b[0m\u001b[0m\n\u001b[1;32m      2\u001b[0m \u001b[0mo\u001b[0m \u001b[0;34m=\u001b[0m \u001b[0;34m\"eight\"\u001b[0m\u001b[0;34m\u001b[0m\u001b[0;34m\u001b[0m\u001b[0m\n\u001b[0;32m----> 3\u001b[0;31m \u001b[0mp\u001b[0m \u001b[0;34m=\u001b[0m \u001b[0mfloat\u001b[0m\u001b[0;34m(\u001b[0m\u001b[0mo\u001b[0m\u001b[0;34m)\u001b[0m\u001b[0;34m\u001b[0m\u001b[0;34m\u001b[0m\u001b[0m\n\u001b[0m\u001b[1;32m      4\u001b[0m \u001b[0mprint\u001b[0m\u001b[0;34m(\u001b[0m\u001b[0;34m\"o =\"\u001b[0m\u001b[0;34m,\u001b[0m \u001b[0mo\u001b[0m\u001b[0;34m,\u001b[0m \u001b[0;34m\"\\ndata type o is\"\u001b[0m\u001b[0;34m,\u001b[0m \u001b[0mtype\u001b[0m\u001b[0;34m(\u001b[0m\u001b[0mo\u001b[0m\u001b[0;34m)\u001b[0m\u001b[0;34m)\u001b[0m\u001b[0;34m\u001b[0m\u001b[0;34m\u001b[0m\u001b[0m\n\u001b[1;32m      5\u001b[0m \u001b[0mprint\u001b[0m\u001b[0;34m(\u001b[0m\u001b[0;34m\"p =\"\u001b[0m\u001b[0;34m,\u001b[0m \u001b[0mp\u001b[0m\u001b[0;34m,\u001b[0m \u001b[0;34m\"\\ndata type p is\"\u001b[0m\u001b[0;34m,\u001b[0m \u001b[0mtype\u001b[0m\u001b[0;34m(\u001b[0m\u001b[0mp\u001b[0m\u001b[0;34m)\u001b[0m\u001b[0;34m)\u001b[0m\u001b[0;34m\u001b[0m\u001b[0;34m\u001b[0m\u001b[0m\n",
            "\u001b[0;31mValueError\u001b[0m: could not convert string to float: 'eight'"
          ]
        }
      ]
    },
    {
      "cell_type": "markdown",
      "source": [
        "If there's a mathematics expression in String, we can calculate it with eval()"
      ],
      "metadata": {
        "id": "cbTUAowfgZmY"
      }
    },
    {
      "cell_type": "code",
      "source": [
        "#Example 1\n",
        "q = \"15 + 18\"\n",
        "r = eval(q)\n",
        "print(\"q is\", type(q), \"with value\", q)\n",
        "print(\"result if use eval() in q is\", r)\n",
        "print(\"data type changed to\", type(r))"
      ],
      "metadata": {
        "colab": {
          "base_uri": "https://localhost:8080/"
        },
        "id": "Fc8hENcDgaNM",
        "outputId": "77018afd-7a01-4e9e-8951-ac7eb76478ed"
      },
      "execution_count": null,
      "outputs": [
        {
          "output_type": "stream",
          "name": "stdout",
          "text": [
            "q is <class 'str'> with value 15 + 18\n",
            "result if use eval() in q is 33\n",
            "data type changed to <class 'int'>\n"
          ]
        }
      ]
    },
    {
      "cell_type": "code",
      "source": [
        "#Example 2\n",
        "s = \"28 + 11.5\"\n",
        "t = eval(s)\n",
        "print(\"s is\", type(s), \"with value\", s)\n",
        "print(\"result if use eval() in s is\", t)\n",
        "print(\"data type changed to\", type(t))"
      ],
      "metadata": {
        "colab": {
          "base_uri": "https://localhost:8080/"
        },
        "id": "aptaTW7xgeY_",
        "outputId": "fe83fc58-2a0a-4a88-c94a-407942869c0e"
      },
      "execution_count": null,
      "outputs": [
        {
          "output_type": "stream",
          "name": "stdout",
          "text": [
            "s is <class 'str'> with value 28 + 11.5\n",
            "result if use eval() in s is 39.5\n",
            "data type changed to <class 'float'>\n"
          ]
        }
      ]
    },
    {
      "cell_type": "markdown",
      "source": [
        "Beside Python primitive data types, we can also casting List and Tuple to Dictionary with note that List or Tuple has more than one couples data to satisfy the key-value requirements on Dictionary"
      ],
      "metadata": {
        "id": "7PrsOuoSghwv"
      }
    },
    {
      "cell_type": "code",
      "source": [
        "#Casting List to Dictionary\n",
        "lst = [[12, 4],[\"name\",\"John\"], [\"age\",23]]\n",
        "dct_1 = dict(lst)\n",
        "print(\"this is List =\", lst)\n",
        "print(\"this is Dictionary =\", dct_1)"
      ],
      "metadata": {
        "colab": {
          "base_uri": "https://localhost:8080/"
        },
        "id": "95Cd_jIBglAt",
        "outputId": "a8aaf45f-730c-450b-e6a8-b6bcc62602ed"
      },
      "execution_count": null,
      "outputs": [
        {
          "output_type": "stream",
          "name": "stdout",
          "text": [
            "this is List = [[12, 4], ['name', 'John'], ['age', 23]]\n",
            "this is Dictionary = {12: 4, 'name': 'John', 'age': 23}\n"
          ]
        }
      ]
    },
    {
      "cell_type": "code",
      "source": [
        "#Casting Tuple to Dictionary\n",
        "tpl = ((\"name\", \"jane\"), (\"age\", 18), (11, 90))\n",
        "dct_2 = dict(tpl)\n",
        "print(\"this is Tuple =\", tpl)\n",
        "print(\"this is Dictionary =\", dct_2)"
      ],
      "metadata": {
        "colab": {
          "base_uri": "https://localhost:8080/"
        },
        "id": "Cx3qc2m3gu2p",
        "outputId": "f638efc4-f947-4d93-822f-ded1027be608"
      },
      "execution_count": null,
      "outputs": [
        {
          "output_type": "stream",
          "name": "stdout",
          "text": [
            "this is Tuple = (('name', 'jane'), ('age', 18), (11, 90))\n",
            "this is Dictionary = {'name': 'jane', 'age': 18, 11: 90}\n"
          ]
        }
      ]
    },
    {
      "cell_type": "markdown",
      "source": [
        "#**Input and Output**\n",
        "\n",
        "Python provides numerous built-in functions that are readily available to us at the Python prompt. Some of the functions like input() and print() are widely used for standard input and output operations respectively."
      ],
      "metadata": {
        "id": "AzGfgZpCT72z"
      }
    },
    {
      "cell_type": "markdown",
      "source": [
        "**Input in Python**\n",
        "\n",
        "Sometimes a developer might want to take user input at some point in the program. To do this Python provides an input() function.\n",
        "\n",
        "Python takes all the input as a string input by default. To convert it to any other data type we have to convert the input explicitly. For example, to convert the input to int or float we have to use the int() and float() method respectively."
      ],
      "metadata": {
        "id": "5Ahd-LCJ0wiq"
      }
    },
    {
      "cell_type": "code",
      "source": [
        "name = input(\"who's your name = \")\n",
        "print(\"Hi {}! How are you today?\".format(name))"
      ],
      "metadata": {
        "colab": {
          "base_uri": "https://localhost:8080/"
        },
        "id": "j6JWL6dC03oi",
        "outputId": "4d407bd1-979a-4ba3-8ab5-e7ec4d3c8d21"
      },
      "execution_count": null,
      "outputs": [
        {
          "output_type": "stream",
          "name": "stdout",
          "text": [
            "who's your name = gais\n",
            "Hi gais! How are you today?\n"
          ]
        }
      ]
    },
    {
      "cell_type": "code",
      "source": [
        "one = int(input(\"insert number 1 = \"))\n",
        "two = int(input(\"insert number 2 = \"))\n",
        "total = one + two\n",
        "print()\n",
        "print(\"The result of substraction is {}\".format(total))\n",
        "print(\"The data type is\", type(total))"
      ],
      "metadata": {
        "colab": {
          "base_uri": "https://localhost:8080/"
        },
        "id": "36ARgHJ70zYa",
        "outputId": "438c0d53-7408-4f19-c3d5-8cf2a4ba3cb5"
      },
      "execution_count": null,
      "outputs": [
        {
          "output_type": "stream",
          "name": "stdout",
          "text": [
            "insert number 1 = 2\n",
            "insert number 2 = 1\n",
            "\n",
            "The result of substraction is 3\n",
            "The data type is <class 'int'>\n"
          ]
        }
      ]
    },
    {
      "cell_type": "markdown",
      "source": [
        "**Output in Python**\n",
        "\n",
        "Python provides the print() function to display output to the standard output devices. \n",
        "\n",
        "Syntax: print(value(s), sep= ‘ ‘, end = ‘\\n’, file=file, flush=flush)\n",
        "\n",
        "Parameters:\n",
        "- value(s): Any value, and as many as you like. Will be converted to string before printed\n",
        "- sep=’separator’: (Optional) Specify how to separate the objects, if there is more than one. **Default :’ ‘**\n",
        "- end=’end’: (Optional) Specify what to print at the end. **Default : ‘\\n’**\n",
        "- file: (Optional) An object with a write method. **Default :sys.stdout**\n",
        "- flush: (Optional) A Boolean, specifying if the output is flushed (True) or buffered (False). **Default: False**\n",
        "- Returns: It returns output to the screen."
      ],
      "metadata": {
        "id": "PL5kHf3h050b"
      }
    },
    {
      "cell_type": "code",
      "source": [
        "#print() method\n",
        "print(\"ANGEL\")"
      ],
      "metadata": {
        "colab": {
          "base_uri": "https://localhost:8080/"
        },
        "id": "MHh7QVL91Jde",
        "outputId": "c20eec3c-b9b9-4982-9a5d-9a4fee064e47"
      },
      "execution_count": null,
      "outputs": [
        {
          "output_type": "stream",
          "name": "stdout",
          "text": [
            "ANGEL\n"
          ]
        }
      ]
    },
    {
      "cell_type": "code",
      "source": [
        "#Disabling the softspace feature\n",
        "print(\"A\",\"N\",\"G\",\"E\",\"L\")"
      ],
      "metadata": {
        "colab": {
          "base_uri": "https://localhost:8080/"
        },
        "id": "EAdEltIQ1Kqs",
        "outputId": "40bf3da4-f489-4f1c-f388-b3b0b442f3a9"
      },
      "execution_count": null,
      "outputs": [
        {
          "output_type": "stream",
          "name": "stdout",
          "text": [
            "A N G E L\n"
          ]
        }
      ]
    },
    {
      "cell_type": "code",
      "source": [
        "#print() with custom end parameter\n",
        "print(\"ANGEL\", end=\"?!\")"
      ],
      "metadata": {
        "colab": {
          "base_uri": "https://localhost:8080/"
        },
        "id": "XE61o_mY1NAf",
        "outputId": "85616a55-78f7-4e8e-8af9-f11ff7d4db1f"
      },
      "execution_count": null,
      "outputs": [
        {
          "output_type": "stream",
          "name": "stdout",
          "text": [
            "ANGEL?!"
          ]
        }
      ]
    },
    {
      "cell_type": "code",
      "source": [
        "#print() with custom sep parameter\n",
        "print(\"A\",\"N\",\"G\",\"E\",\"L\", sep=\"-\")"
      ],
      "metadata": {
        "colab": {
          "base_uri": "https://localhost:8080/"
        },
        "id": "GJ0niufZ1P8j",
        "outputId": "fd990db6-3bfb-4b7e-b92a-99c196a16bb2"
      },
      "execution_count": null,
      "outputs": [
        {
          "output_type": "stream",
          "name": "stdout",
          "text": [
            "A-N-G-E-L\n"
          ]
        }
      ]
    },
    {
      "cell_type": "markdown",
      "source": [
        "**Formatting Output**\n",
        "\n",
        "1. Using Formatted string literals\n",
        "\n",
        "\n",
        "> We can use formatted string literals, by starting a string with f or F before opening quotation marks or triple quotation marks. In this string, we can write Python expressions between { and } that can refer to a variable or any literal value."
      ],
      "metadata": {
        "id": "YZYqy7dn1TIs"
      }
    },
    {
      "cell_type": "code",
      "source": [
        "name = \"Jackson\"\n",
        "weather = \"Rainy\"\n",
        "print(f\"Hi {name}! today is {weather}, isn't it?\")"
      ],
      "metadata": {
        "id": "Janixluw1WPn",
        "colab": {
          "base_uri": "https://localhost:8080/"
        },
        "outputId": "d5cdbad5-e989-4331-9271-26d054d5d66b"
      },
      "execution_count": null,
      "outputs": [
        {
          "output_type": "stream",
          "name": "stdout",
          "text": [
            "Hi Jackson! today is Rainy, isn't it?\n"
          ]
        }
      ]
    },
    {
      "cell_type": "markdown",
      "source": [
        "2. Using format()\n",
        "\n",
        "> We can also use format() function to format our output to make it look presentable. The curly braces { } work as placeholders. We can specify the order in which variables occur in the output."
      ],
      "metadata": {
        "id": "Cr_FZTYE1Zsq"
      }
    },
    {
      "cell_type": "code",
      "source": [
        "name = \"Jackson\"\n",
        "weather = \"Rainy\"\n",
        "print(\"Hi {}! today is {}, isn't it?\".format(name,weather))"
      ],
      "metadata": {
        "colab": {
          "base_uri": "https://localhost:8080/"
        },
        "id": "-sRuymV-1b9y",
        "outputId": "2cc165c8-02fe-4778-add7-c26b31175c86"
      },
      "execution_count": null,
      "outputs": [
        {
          "output_type": "stream",
          "name": "stdout",
          "text": [
            "Hi Jackson! today is Rainy, isn't it?\n"
          ]
        }
      ]
    },
    {
      "cell_type": "code",
      "source": [
        "a = \"k-pop\"\n",
        "b = \"pizza\"\n",
        "c = \"cat\"\n",
        "print(\"My fav food is {2} and my fav animal is {0}, I also love {1}\".format(c,a,b))"
      ],
      "metadata": {
        "colab": {
          "base_uri": "https://localhost:8080/"
        },
        "id": "VjfaOS7_1ePK",
        "outputId": "9958d181-e595-4c9e-94dc-b13b93ae6f34"
      },
      "execution_count": null,
      "outputs": [
        {
          "output_type": "stream",
          "name": "stdout",
          "text": [
            "My fav food is pizza and my fav animal is cat, I also love k-pop\n"
          ]
        }
      ]
    },
    {
      "cell_type": "markdown",
      "source": [
        "3. Using % format\n",
        "\n",
        "> We can use ‘%’ operator. % values are replaced with zero or more value of elements. The formatting using % is similar to that of ‘printf’ in the C programming language.\n",
        "- %d – integer\n",
        "- %f – float\n",
        "- %s – string\n",
        "- %x – hexadecimal\n",
        "- %o – octal"
      ],
      "metadata": {
        "id": "eExcyEg51hqS"
      }
    },
    {
      "cell_type": "code",
      "source": [
        "n = \"Jake\"\n",
        "a = 21\n",
        "h = 175.2\n",
        "print(\"His name is %s. He's %d years old and his height is %.2f cm.\" %(n,a,h))"
      ],
      "metadata": {
        "id": "ABxkuWNm1kas",
        "outputId": "f0f271f9-5d45-43a2-a756-c4a04aafb83f",
        "colab": {
          "base_uri": "https://localhost:8080/"
        }
      },
      "execution_count": null,
      "outputs": [
        {
          "output_type": "stream",
          "name": "stdout",
          "text": [
            "His name is Jake. He's 21 years old and his height is 175.20 cm.\n"
          ]
        }
      ]
    },
    {
      "cell_type": "markdown",
      "source": [
        "#**Dynamic Typing**\n",
        "\n",
        "Types in Python are determined during run-time as opposed to compile-time and thus programmers are not required to declare variables before using them in the code.\n",
        "\n",
        "Technically, a variable is created when it's assigned a value for the first time in the code. This means that a variable must first be assigned a value before it is referenced in the code otherwise an error will be reported. And as mentioned earlier, the variable assignment never comes with a type definition since the type is stored with objects and not with variables/names. Every time a variable is identified, it automatically gets replaced with the object in memory it references."
      ],
      "metadata": {
        "id": "tuXAvFxPT_CL"
      }
    },
    {
      "cell_type": "code",
      "source": [
        "# Varible x has integer value\n",
        "x = 10\n",
        "print(\"x value is\", x, \"and the type is\",type(x))\n",
        "\n",
        "# Assign another value in x variable and the value will be replaced\n",
        "x = \"Good morning!\"\n",
        "print(\"x value is\", x, \"and the type is\", type(x))"
      ],
      "metadata": {
        "colab": {
          "base_uri": "https://localhost:8080/"
        },
        "id": "TdMwG8jT7d92",
        "outputId": "c2b58465-9614-4797-b73d-8a89d4ac9279"
      },
      "execution_count": null,
      "outputs": [
        {
          "output_type": "stream",
          "name": "stdout",
          "text": [
            "x value is 10 and the type is <class 'int'>\n",
            "x value is Good morning! and the type is <class 'str'>\n"
          ]
        }
      ]
    },
    {
      "cell_type": "markdown",
      "source": [
        "#**Transformation**"
      ],
      "metadata": {
        "id": "2Sr9iRxpUBaR"
      }
    },
    {
      "cell_type": "markdown",
      "source": [
        "**lower**\n",
        "\n",
        "In Python, lower() is a built-in method used for string handling. The lower() methods returns the lowercased string from the given string. It converts all uppercase characters to lowercase. If no uppercase characters exist, it returns the original string.\n",
        "\n",
        "Syntax: string.lower()"
      ],
      "metadata": {
        "id": "HaDm6KMMHE6E"
      }
    },
    {
      "cell_type": "code",
      "source": [
        "sentence_1 = \"Everyday is a GOOD day!\"\n",
        "print(sentence_1.lower())"
      ],
      "metadata": {
        "colab": {
          "base_uri": "https://localhost:8080/"
        },
        "id": "QMJ-viIZHJvh",
        "outputId": "a93f2fc0-0e6c-48b2-eb21-d4ae45bc6245"
      },
      "execution_count": null,
      "outputs": [
        {
          "output_type": "stream",
          "name": "stdout",
          "text": [
            "everyday is a good day!\n"
          ]
        }
      ]
    },
    {
      "cell_type": "markdown",
      "source": [
        "**upper**\n",
        "\n",
        "In Python, upper() is a built-in method used for string handling. The upper() methods returns the uppercased string from the given string. It converts all lowercase characters to uppercase. If no lowercase characters exist, it returns the original string.\n",
        "\n",
        "Syntax: string.upper()"
      ],
      "metadata": {
        "id": "Db-iv9LrHMvH"
      }
    },
    {
      "cell_type": "code",
      "source": [
        "sentence_2 = \"Do your Best, SO you cAn Get iT\"\n",
        "print(sentence_2.upper())"
      ],
      "metadata": {
        "colab": {
          "base_uri": "https://localhost:8080/"
        },
        "id": "6vQz_yNtHQ8N",
        "outputId": "8132cc3d-e1d4-4a6d-910e-c0d76659c8e2"
      },
      "execution_count": null,
      "outputs": [
        {
          "output_type": "stream",
          "name": "stdout",
          "text": [
            "DO YOUR BEST, SO YOU CAN GET IT\n"
          ]
        }
      ]
    },
    {
      "cell_type": "markdown",
      "source": [
        "**rstrip**\n",
        "\n",
        "Python String rstrip() method returns a copy of the string with trailing characters removed (based on the string argument passed). If no argument is passed, it removes trailing spaces.\n",
        "\n",
        "Syntax: string.rstrip(chars)\n",
        "\n",
        "chars (optional) – a string specifying the set of characters to be removed."
      ],
      "metadata": {
        "id": "FiwtuuNWHVJS"
      }
    },
    {
      "cell_type": "code",
      "source": [
        "hey = \"hello   \"\n",
        "print(hey)\n",
        "print(hey.rstrip())"
      ],
      "metadata": {
        "colab": {
          "base_uri": "https://localhost:8080/"
        },
        "id": "8lHptwcrHTEV",
        "outputId": "e9abe37a-4cc3-4d13-c71e-48980b546b17"
      },
      "execution_count": null,
      "outputs": [
        {
          "output_type": "stream",
          "name": "stdout",
          "text": [
            "hello   \n",
            "hello\n"
          ]
        }
      ]
    },
    {
      "cell_type": "code",
      "source": [
        "name = \"Bobbyyyyyy\"\n",
        "print(name)\n",
        "print(name.rstrip(\"y\"))"
      ],
      "metadata": {
        "colab": {
          "base_uri": "https://localhost:8080/"
        },
        "id": "LuvCZNmgHbye",
        "outputId": "44ceb4a0-f32e-47e3-ff17-5941c7983510"
      },
      "execution_count": null,
      "outputs": [
        {
          "output_type": "stream",
          "name": "stdout",
          "text": [
            "Bobbyyyyyy\n",
            "Bobb\n"
          ]
        }
      ]
    },
    {
      "cell_type": "markdown",
      "source": [
        "**lstrip**\n",
        "\n",
        "Python String lstrip() method returns a copy of the string with leading characters removed (based on the string argument passed). If no argument is passed, it removes leading spaces.\n",
        "\n",
        "Syntax: string.lstrip(chars)\n",
        "\n",
        "chars (optional) - a set of characters to remove as leading characters."
      ],
      "metadata": {
        "id": "sYvDVUfZHepV"
      }
    },
    {
      "cell_type": "code",
      "source": [
        "wyd = \"      what you doing?\"\n",
        "print(wyd)\n",
        "print(wyd.lstrip())"
      ],
      "metadata": {
        "id": "VCmwSkMmHgrB",
        "outputId": "733436e3-5246-4077-bcb4-925126e8a2da",
        "colab": {
          "base_uri": "https://localhost:8080/"
        }
      },
      "execution_count": null,
      "outputs": [
        {
          "output_type": "stream",
          "name": "stdout",
          "text": [
            "      what you doing?\n",
            "what you doing?\n"
          ]
        }
      ]
    },
    {
      "cell_type": "code",
      "source": [
        "random = \"++.!^@@???? what?\"\n",
        "print(random)\n",
        "print(random.lstrip(\"+.!^@? \"))"
      ],
      "metadata": {
        "id": "HlBeNvJMHi3B",
        "outputId": "dbbe9862-9740-4564-b80e-bc7b02a07ea2",
        "colab": {
          "base_uri": "https://localhost:8080/"
        }
      },
      "execution_count": null,
      "outputs": [
        {
          "output_type": "stream",
          "name": "stdout",
          "text": [
            "++.!^@@???? what?\n",
            "what?\n"
          ]
        }
      ]
    },
    {
      "cell_type": "markdown",
      "source": [
        "**strip**\n",
        "\n",
        "strip() is an inbuilt function in Python programming language that returns a copy of the string with both leading and trailing characters removed (based on the string argument passed).\n",
        "\n",
        "Syntax: string.strip(chars)\n",
        "\n",
        "There is only one optional parameter in it:\n",
        "\n",
        "chars - a string specifying the set of characters to be removed. \n",
        "\n",
        "If the optional chars parameter is not given, all leading \n",
        "and trailing whitespaces are removed from the string.\n"
      ],
      "metadata": {
        "id": "AfIwB7pbHlsd"
      }
    },
    {
      "cell_type": "markdown",
      "source": [
        "**Startswith**\n",
        "\n",
        "The startswith () method returns True if the string starts with the specified value, otherwise False.\n"
      ],
      "metadata": {
        "id": "p11dNehDJQig"
      }
    },
    {
      "cell_type": "code",
      "execution_count": null,
      "metadata": {
        "id": "fBoOcU4QFYfs"
      },
      "outputs": [],
      "source": [
        "a = \"Hello, welcome to Python\""
      ]
    },
    {
      "cell_type": "code",
      "source": [
        "a.startswith(\"Hello\")"
      ],
      "metadata": {
        "colab": {
          "base_uri": "https://localhost:8080/"
        },
        "id": "0dLn_L1AKq4X",
        "outputId": "cde0565a-b0ff-44da-8c7c-cba8a0dbdb78"
      },
      "execution_count": null,
      "outputs": [
        {
          "output_type": "execute_result",
          "data": {
            "text/plain": [
              "True"
            ]
          },
          "metadata": {},
          "execution_count": 2
        }
      ]
    },
    {
      "cell_type": "code",
      "source": [
        "a.startswith(\"Python\")"
      ],
      "metadata": {
        "colab": {
          "base_uri": "https://localhost:8080/"
        },
        "id": "_RUBoTXnK7DQ",
        "outputId": "319d9168-69cb-4e28-eb8d-34a002e04dfb"
      },
      "execution_count": null,
      "outputs": [
        {
          "output_type": "execute_result",
          "data": {
            "text/plain": [
              "False"
            ]
          },
          "metadata": {},
          "execution_count": 3
        }
      ]
    },
    {
      "cell_type": "code",
      "source": [
        "a.startswith(\"Hello, welcome to\")"
      ],
      "metadata": {
        "colab": {
          "base_uri": "https://localhost:8080/"
        },
        "id": "NUxx9CPpLA64",
        "outputId": "3726ca99-a9a3-4bc1-b98b-be083375554d"
      },
      "execution_count": null,
      "outputs": [
        {
          "output_type": "execute_result",
          "data": {
            "text/plain": [
              "True"
            ]
          },
          "metadata": {},
          "execution_count": 4
        }
      ]
    },
    {
      "cell_type": "markdown",
      "source": [
        "**Endswith**\n",
        "\n",
        "The endswith() method returns True if the string ends with the specified value, otherwise False."
      ],
      "metadata": {
        "id": "V5vXVtExLdMD"
      }
    },
    {
      "cell_type": "code",
      "source": [
        "b = \"See you later\""
      ],
      "metadata": {
        "id": "zyOd_ifPLjCU"
      },
      "execution_count": null,
      "outputs": []
    },
    {
      "cell_type": "code",
      "source": [
        "b.endswith(\"later\")"
      ],
      "metadata": {
        "colab": {
          "base_uri": "https://localhost:8080/"
        },
        "id": "79rAWXKUL0XP",
        "outputId": "39fbae25-a6f7-42ae-cf78-763d511c1385"
      },
      "execution_count": null,
      "outputs": [
        {
          "output_type": "execute_result",
          "data": {
            "text/plain": [
              "True"
            ]
          },
          "metadata": {},
          "execution_count": 6
        }
      ]
    },
    {
      "cell_type": "code",
      "source": [
        "b.endswith(\"See\")"
      ],
      "metadata": {
        "colab": {
          "base_uri": "https://localhost:8080/"
        },
        "id": "QPZWAs4rL6qE",
        "outputId": "e6a7924a-cb01-4a66-fe3d-2dd8dbda1ec4"
      },
      "execution_count": null,
      "outputs": [
        {
          "output_type": "execute_result",
          "data": {
            "text/plain": [
              "False"
            ]
          },
          "metadata": {},
          "execution_count": 7
        }
      ]
    },
    {
      "cell_type": "code",
      "source": [
        "b.endswith (\"you later\")"
      ],
      "metadata": {
        "colab": {
          "base_uri": "https://localhost:8080/"
        },
        "id": "U8tQZ6JJL-Ly",
        "outputId": "41c98792-ca00-4dc2-d760-b1375cb17d44"
      },
      "execution_count": null,
      "outputs": [
        {
          "output_type": "execute_result",
          "data": {
            "text/plain": [
              "True"
            ]
          },
          "metadata": {},
          "execution_count": 8
        }
      ]
    },
    {
      "cell_type": "markdown",
      "source": [
        "# Change The String Element\n",
        "\n"
      ],
      "metadata": {
        "id": "hltNLfiMOv93"
      }
    },
    {
      "cell_type": "markdown",
      "source": [
        "## Replace()\n",
        "\n",
        "The replace() method replaces a specified phrase with another specified phrase.\n",
        "\n",
        "The syntax : *string.replace(oldvalue, newvalue, count)*\n",
        "\n",
        "\n",
        "Parameter Values:\n",
        "\n",
        "*   *oldvalue* => Required. The string to search for\n",
        "*   *newvalue* =>\tRequired. The string to replace the old value with\n",
        "*   *count* =>\tOptional. A number specifying how many occurrences of the old value you want to replace. Default is all occurrences\n",
        "\n",
        "\n",
        "\n",
        "\n",
        "\n",
        "\n"
      ],
      "metadata": {
        "id": "_nAU4UvCQZJ2"
      }
    },
    {
      "cell_type": "code",
      "source": [
        "a = \"Anna likes  coffe, but Elsa likes tea\""
      ],
      "metadata": {
        "id": "8KICZ1dgRBav"
      },
      "execution_count": null,
      "outputs": []
    },
    {
      "cell_type": "code",
      "source": [
        "a.replace(\"likes\",\"loves\")\n",
        "\n",
        "#Replace all occurrence of the word \"likes\":"
      ],
      "metadata": {
        "colab": {
          "base_uri": "https://localhost:8080/",
          "height": 35
        },
        "id": "sQdGUCp0SU-S",
        "outputId": "0f10d68d-6ea8-4765-fd0b-091d5e3aab02"
      },
      "execution_count": null,
      "outputs": [
        {
          "output_type": "execute_result",
          "data": {
            "text/plain": [
              "'Anna loves  coffe, but Elsa loves tea'"
            ],
            "application/vnd.google.colaboratory.intrinsic+json": {
              "type": "string"
            }
          },
          "metadata": {},
          "execution_count": 10
        }
      ]
    },
    {
      "cell_type": "code",
      "source": [
        "a.replace(\"likes\", \"loves\", 1)\n",
        "\n",
        "#Replace the first occurrence of the word \"loves\":"
      ],
      "metadata": {
        "colab": {
          "base_uri": "https://localhost:8080/",
          "height": 35
        },
        "id": "qo6dVbh7Sooa",
        "outputId": "f8c2338a-d03a-4709-f97c-2424d712f684"
      },
      "execution_count": null,
      "outputs": [
        {
          "output_type": "execute_result",
          "data": {
            "text/plain": [
              "'Anna loves  coffe, but Elsa likes tea'"
            ],
            "application/vnd.google.colaboratory.intrinsic+json": {
              "type": "string"
            }
          },
          "metadata": {},
          "execution_count": 11
        }
      ]
    },
    {
      "cell_type": "markdown",
      "source": [
        "# Check The String"
      ],
      "metadata": {
        "id": "V-hc9c2PTTeC"
      }
    },
    {
      "cell_type": "markdown",
      "source": [
        "## Isupper\n",
        "\n",
        "The isupper() method returns True if all the characters are in upper case, otherwise False.\n",
        "\n",
        "Numbers, symbols and spaces are not checked, only alphabet characters.\n",
        "\n",
        "Syntax : *string.isupper()*"
      ],
      "metadata": {
        "id": "HTFq2w2dYg2H"
      }
    },
    {
      "cell_type": "code",
      "source": [
        "x = \"WE ARE CODE TEAM\""
      ],
      "metadata": {
        "id": "uT0zvHF6ZFYK"
      },
      "execution_count": null,
      "outputs": []
    },
    {
      "cell_type": "code",
      "source": [
        "x.isupper()"
      ],
      "metadata": {
        "colab": {
          "base_uri": "https://localhost:8080/"
        },
        "id": "dtElXzsBZcOa",
        "outputId": "7fee8f5f-b7dc-4ac5-b9be-06e0d4f75c2f"
      },
      "execution_count": null,
      "outputs": [
        {
          "output_type": "execute_result",
          "data": {
            "text/plain": [
              "True"
            ]
          },
          "metadata": {},
          "execution_count": 13
        }
      ]
    },
    {
      "cell_type": "code",
      "source": [
        "y = \"We Are Code Team\""
      ],
      "metadata": {
        "id": "5v6Ho2PGZUNO"
      },
      "execution_count": null,
      "outputs": []
    },
    {
      "cell_type": "code",
      "source": [
        "y.isupper()"
      ],
      "metadata": {
        "colab": {
          "base_uri": "https://localhost:8080/"
        },
        "id": "-GFH9MSIZglF",
        "outputId": "280e0214-52dd-4ea2-90a5-07ded776f204"
      },
      "execution_count": null,
      "outputs": [
        {
          "output_type": "execute_result",
          "data": {
            "text/plain": [
              "False"
            ]
          },
          "metadata": {},
          "execution_count": 15
        }
      ]
    },
    {
      "cell_type": "code",
      "source": [
        "z = \"we are code team\""
      ],
      "metadata": {
        "id": "V59VFJ5AZYO_"
      },
      "execution_count": null,
      "outputs": []
    },
    {
      "cell_type": "code",
      "source": [
        "z.isupper()"
      ],
      "metadata": {
        "colab": {
          "base_uri": "https://localhost:8080/"
        },
        "id": "vfX4NDoNZjnJ",
        "outputId": "a97b7295-9a7c-4b12-bada-794685972e2f"
      },
      "execution_count": null,
      "outputs": [
        {
          "output_type": "execute_result",
          "data": {
            "text/plain": [
              "False"
            ]
          },
          "metadata": {},
          "execution_count": 17
        }
      ]
    },
    {
      "cell_type": "markdown",
      "source": [
        "## Islower\n",
        "\n",
        "The islower() method returns True if all the characters are in lower case, otherwise False.\n",
        "\n",
        "Numbers, symbols and spaces are not checked, only alphabet characters.\n",
        "\n",
        "Syntax : *string.islower()*\n"
      ],
      "metadata": {
        "id": "_5CFmDD7aj58"
      }
    },
    {
      "cell_type": "code",
      "source": [
        "x = \"WE ARE CODE TEAM\""
      ],
      "metadata": {
        "id": "fgrDgwSUarON"
      },
      "execution_count": null,
      "outputs": []
    },
    {
      "cell_type": "code",
      "source": [
        "x.islower()"
      ],
      "metadata": {
        "colab": {
          "base_uri": "https://localhost:8080/"
        },
        "id": "so4ZF1DgayP6",
        "outputId": "7de719d4-b05e-4d52-9e34-76be59beac1b"
      },
      "execution_count": null,
      "outputs": [
        {
          "output_type": "execute_result",
          "data": {
            "text/plain": [
              "False"
            ]
          },
          "metadata": {},
          "execution_count": 19
        }
      ]
    },
    {
      "cell_type": "code",
      "source": [
        "y = \"We Are Code Team\""
      ],
      "metadata": {
        "id": "yb2GkGMCa3E9"
      },
      "execution_count": null,
      "outputs": []
    },
    {
      "cell_type": "code",
      "source": [
        "y.islower()"
      ],
      "metadata": {
        "colab": {
          "base_uri": "https://localhost:8080/"
        },
        "id": "YxR5xOvta42-",
        "outputId": "08789be7-f10c-41e3-d12a-c2e78b8109ae"
      },
      "execution_count": null,
      "outputs": [
        {
          "output_type": "execute_result",
          "data": {
            "text/plain": [
              "False"
            ]
          },
          "metadata": {},
          "execution_count": 21
        }
      ]
    },
    {
      "cell_type": "code",
      "source": [
        "z = \"we are code team\""
      ],
      "metadata": {
        "id": "cpOzvPWIa8Pe"
      },
      "execution_count": null,
      "outputs": []
    },
    {
      "cell_type": "code",
      "source": [
        "z.islower()"
      ],
      "metadata": {
        "colab": {
          "base_uri": "https://localhost:8080/"
        },
        "id": "cW16bzsna-6u",
        "outputId": "38eb7ec1-03f6-4c2f-d701-58f5f613dde9"
      },
      "execution_count": null,
      "outputs": [
        {
          "output_type": "execute_result",
          "data": {
            "text/plain": [
              "True"
            ]
          },
          "metadata": {},
          "execution_count": 23
        }
      ]
    },
    {
      "cell_type": "markdown",
      "source": [
        "# Chain of Method\n",
        "\n",
        "We can do operation to other operation results"
      ],
      "metadata": {
        "id": "zFZyY2Z_dVxl"
      }
    },
    {
      "cell_type": "code",
      "source": [
        "print(\"Code\".upper().lower())\n",
        "#change the string from upper fisrt and then to lower"
      ],
      "metadata": {
        "colab": {
          "base_uri": "https://localhost:8080/"
        },
        "id": "U-AYEm32diEQ",
        "outputId": "1130fc49-ae28-4425-83eb-67bfdc9cfe9c"
      },
      "execution_count": null,
      "outputs": [
        {
          "output_type": "stream",
          "name": "stdout",
          "text": [
            "code\n"
          ]
        }
      ]
    },
    {
      "cell_type": "code",
      "source": [
        "print(\"Code\".lower().upper())\n",
        "#change the string from lower fisrt and then to upper"
      ],
      "metadata": {
        "colab": {
          "base_uri": "https://localhost:8080/"
        },
        "id": "g5-jJ9mSdzx9",
        "outputId": "1f446dea-abcd-40d8-f094-d86bd429726e"
      },
      "execution_count": null,
      "outputs": [
        {
          "output_type": "stream",
          "name": "stdout",
          "text": [
            "CODE\n"
          ]
        }
      ]
    },
    {
      "cell_type": "code",
      "source": [
        "print(\"Code\".upper().lower().islower())\n",
        "#show the result whether it is true or false"
      ],
      "metadata": {
        "colab": {
          "base_uri": "https://localhost:8080/"
        },
        "id": "gnq7NSGHd5wV",
        "outputId": "efd09542-4d73-4126-cbca-7c5fb21cb144"
      },
      "execution_count": null,
      "outputs": [
        {
          "output_type": "stream",
          "name": "stdout",
          "text": [
            "True\n"
          ]
        }
      ]
    },
    {
      "cell_type": "code",
      "source": [
        "print(\"Code\".lower().upper().isupper())\n",
        "#show the result whether it is true or false"
      ],
      "metadata": {
        "colab": {
          "base_uri": "https://localhost:8080/"
        },
        "id": "bPFbdFj5eANx",
        "outputId": "784ba0b0-f3e8-4ba3-d652-10d1d91b1b16"
      },
      "execution_count": null,
      "outputs": [
        {
          "output_type": "stream",
          "name": "stdout",
          "text": [
            "True\n"
          ]
        }
      ]
    },
    {
      "cell_type": "markdown",
      "source": [
        "## Isalpha\n",
        "\n",
        "The isalpha() method returns True if all the characters are alphabet letters (a-z).\n",
        "\n",
        "Example of characters that are not alphabet letters: (space)!#%&? etc.\n",
        "\n",
        "Syntax : *string.isalpha()*"
      ],
      "metadata": {
        "id": "hG71XU0igWYa"
      }
    },
    {
      "cell_type": "code",
      "source": [
        "Example = \"Tokopedia\""
      ],
      "metadata": {
        "id": "RwfgwGLcgfoO"
      },
      "execution_count": null,
      "outputs": []
    },
    {
      "cell_type": "code",
      "source": [
        "Example.isalpha()"
      ],
      "metadata": {
        "colab": {
          "base_uri": "https://localhost:8080/"
        },
        "id": "UCtNVczyg-UX",
        "outputId": "2ab9a4a4-f9d3-43c8-e9d5-e7e839c7f7a7"
      },
      "execution_count": null,
      "outputs": [
        {
          "output_type": "execute_result",
          "data": {
            "text/plain": [
              "True"
            ]
          },
          "metadata": {},
          "execution_count": 29
        }
      ]
    },
    {
      "cell_type": "code",
      "source": [
        "Example = \"Tokopedia2022\""
      ],
      "metadata": {
        "id": "c-B9yqT-hC46"
      },
      "execution_count": null,
      "outputs": []
    },
    {
      "cell_type": "code",
      "source": [
        "Example.isalpha()"
      ],
      "metadata": {
        "colab": {
          "base_uri": "https://localhost:8080/"
        },
        "id": "3ncAAmZBhHvt",
        "outputId": "f720f172-4c1f-4d1d-bb6a-5bd932705e0c"
      },
      "execution_count": null,
      "outputs": [
        {
          "output_type": "execute_result",
          "data": {
            "text/plain": [
              "False"
            ]
          },
          "metadata": {},
          "execution_count": 31
        }
      ]
    },
    {
      "cell_type": "markdown",
      "source": [
        "## Isalnum\n",
        "\n",
        "The isalnum() method returns True if all the characters are alphanumeric, meaning alphabet letter (a-z) and numbers (0-9).\n",
        "\n",
        "Example of characters that are not alphanumeric: (space)!#%&? etc.\n",
        "\n",
        "Syntax : *string.isalnum()*"
      ],
      "metadata": {
        "id": "AFb-zfzGh63H"
      }
    },
    {
      "cell_type": "code",
      "source": [
        "x = \"Shopee\""
      ],
      "metadata": {
        "id": "iOox1_U2iKOF"
      },
      "execution_count": null,
      "outputs": []
    },
    {
      "cell_type": "code",
      "source": [
        "x.isalnum()"
      ],
      "metadata": {
        "colab": {
          "base_uri": "https://localhost:8080/"
        },
        "id": "WMcsE5ZtikSi",
        "outputId": "4830ed71-adff-479b-e014-e200b414de11"
      },
      "execution_count": null,
      "outputs": [
        {
          "output_type": "execute_result",
          "data": {
            "text/plain": [
              "True"
            ]
          },
          "metadata": {},
          "execution_count": 33
        }
      ]
    },
    {
      "cell_type": "code",
      "source": [
        "x = \"Shopee2022\""
      ],
      "metadata": {
        "id": "zhbeN0P9jIhe"
      },
      "execution_count": null,
      "outputs": []
    },
    {
      "cell_type": "code",
      "source": [
        "x.isalnum()"
      ],
      "metadata": {
        "colab": {
          "base_uri": "https://localhost:8080/"
        },
        "id": "YBvSsZeojLso",
        "outputId": "848d7d35-b29e-44fe-8c6d-7e0fd20397e8"
      },
      "execution_count": null,
      "outputs": [
        {
          "output_type": "execute_result",
          "data": {
            "text/plain": [
              "True"
            ]
          },
          "metadata": {},
          "execution_count": 35
        }
      ]
    },
    {
      "cell_type": "code",
      "source": [
        "x = \"Shopee 2022\""
      ],
      "metadata": {
        "id": "6EDndQhqjN3C"
      },
      "execution_count": null,
      "outputs": []
    },
    {
      "cell_type": "code",
      "source": [
        "x.isalnum()\n",
        "#false because use \"space\""
      ],
      "metadata": {
        "colab": {
          "base_uri": "https://localhost:8080/"
        },
        "id": "rZgUsF8MjQlC",
        "outputId": "254590d6-fa23-43d0-9d01-4882eec02523"
      },
      "execution_count": null,
      "outputs": [
        {
          "output_type": "execute_result",
          "data": {
            "text/plain": [
              "False"
            ]
          },
          "metadata": {},
          "execution_count": 37
        }
      ]
    },
    {
      "cell_type": "markdown",
      "source": [
        "##Isdecimal\n",
        "\n",
        "The isdecimal() method returns True if all the characters are decimals (0-9).\n",
        "\n",
        "This method is used on unicode objects.\n",
        "\n",
        "Syntax : *string.isdecimal()*"
      ],
      "metadata": {
        "id": "BTssihaokobp"
      }
    },
    {
      "cell_type": "code",
      "source": [
        "This_year = \"2022\""
      ],
      "metadata": {
        "id": "odVh_Hwxkwlt"
      },
      "execution_count": null,
      "outputs": []
    },
    {
      "cell_type": "code",
      "source": [
        "This_year.isdecimal()"
      ],
      "metadata": {
        "colab": {
          "base_uri": "https://localhost:8080/"
        },
        "id": "0KHgrkYjlW6N",
        "outputId": "39ca9106-d63d-49ff-8a9e-c220e28b0942"
      },
      "execution_count": null,
      "outputs": [
        {
          "output_type": "execute_result",
          "data": {
            "text/plain": [
              "True"
            ]
          },
          "metadata": {},
          "execution_count": 39
        }
      ]
    },
    {
      "cell_type": "code",
      "source": [
        "This_month = \"March2022\""
      ],
      "metadata": {
        "id": "z7nhRwHHlsIH"
      },
      "execution_count": null,
      "outputs": []
    },
    {
      "cell_type": "code",
      "source": [
        "This_month.isdecimal()\n",
        "#false because there is alphabe"
      ],
      "metadata": {
        "colab": {
          "base_uri": "https://localhost:8080/"
        },
        "id": "ChiWFjxQl23F",
        "outputId": "0798ae97-a561-45a5-abed-318229a6f7c8"
      },
      "execution_count": null,
      "outputs": [
        {
          "output_type": "execute_result",
          "data": {
            "text/plain": [
              "False"
            ]
          },
          "metadata": {},
          "execution_count": 41
        }
      ]
    },
    {
      "cell_type": "markdown",
      "source": [
        "#Isspace\n",
        "\n",
        "The isspace() method returns True if all the characters in a string are whitespaces, otherwise False.\n",
        "\n",
        "Syntax : *string.isspace()*"
      ],
      "metadata": {
        "id": "27-THKosnHJz"
      }
    },
    {
      "cell_type": "code",
      "source": [
        "c = \" \""
      ],
      "metadata": {
        "id": "yGSxKLJ1nM5M"
      },
      "execution_count": null,
      "outputs": []
    },
    {
      "cell_type": "code",
      "source": [
        "c.isspace()"
      ],
      "metadata": {
        "colab": {
          "base_uri": "https://localhost:8080/"
        },
        "id": "inx7O1uqnZPg",
        "outputId": "b88146b2-c581-40f7-e35b-6517ef06bee4"
      },
      "execution_count": null,
      "outputs": [
        {
          "output_type": "execute_result",
          "data": {
            "text/plain": [
              "True"
            ]
          },
          "metadata": {},
          "execution_count": 43
        }
      ]
    },
    {
      "cell_type": "code",
      "source": [
        "d = \"Data Science\""
      ],
      "metadata": {
        "id": "zeTQqMT3ncUn"
      },
      "execution_count": null,
      "outputs": []
    },
    {
      "cell_type": "code",
      "source": [
        "d.isspace()\n",
        "#false because not only space"
      ],
      "metadata": {
        "colab": {
          "base_uri": "https://localhost:8080/"
        },
        "id": "os9c7KnDnfPj",
        "outputId": "87145bf5-81cd-4a81-bf26-6680fd112fbc"
      },
      "execution_count": null,
      "outputs": [
        {
          "output_type": "execute_result",
          "data": {
            "text/plain": [
              "False"
            ]
          },
          "metadata": {},
          "execution_count": 45
        }
      ]
    },
    {
      "cell_type": "markdown",
      "source": [
        "##Istitle\n",
        "\n",
        "The istitle() method returns True if all words in a text start with a upper case letter, AND the rest of the word are lower case letters, otherwise False.\n",
        "\n",
        "Symbols and numbers are ignored.\n",
        "\n",
        "Syntax : *string.istitle()*"
      ],
      "metadata": {
        "id": "D14guGgMokmg"
      }
    },
    {
      "cell_type": "code",
      "source": [
        "Python = \"Hello, Welcome To Python\""
      ],
      "metadata": {
        "id": "NJ6JdmmKoqgN"
      },
      "execution_count": null,
      "outputs": []
    },
    {
      "cell_type": "code",
      "source": [
        "Python.istitle()"
      ],
      "metadata": {
        "colab": {
          "base_uri": "https://localhost:8080/"
        },
        "id": "6CcDvJ7Eo5Y_",
        "outputId": "7da8a53c-50f5-47ea-c771-f222294b6b64"
      },
      "execution_count": null,
      "outputs": [
        {
          "output_type": "execute_result",
          "data": {
            "text/plain": [
              "True"
            ]
          },
          "metadata": {},
          "execution_count": 47
        }
      ]
    },
    {
      "cell_type": "code",
      "source": [
        "Python = \"hello, welcome to python\""
      ],
      "metadata": {
        "id": "25D09a9CpA43"
      },
      "execution_count": null,
      "outputs": []
    },
    {
      "cell_type": "code",
      "source": [
        "Python.istitle()"
      ],
      "metadata": {
        "colab": {
          "base_uri": "https://localhost:8080/"
        },
        "id": "8x6LbUAFpHjw",
        "outputId": "22afe15f-5b23-495e-a54d-681ee243f28e"
      },
      "execution_count": null,
      "outputs": [
        {
          "output_type": "execute_result",
          "data": {
            "text/plain": [
              "False"
            ]
          },
          "metadata": {},
          "execution_count": 49
        }
      ]
    },
    {
      "cell_type": "code",
      "source": [
        "Python = \"HELLO, WELCOME TO PYTHON\""
      ],
      "metadata": {
        "id": "Xcji5YmcpIok"
      },
      "execution_count": null,
      "outputs": []
    },
    {
      "cell_type": "code",
      "source": [
        "Python.istitle()"
      ],
      "metadata": {
        "colab": {
          "base_uri": "https://localhost:8080/"
        },
        "id": "GwSl33j5pNDo",
        "outputId": "6494be22-9fe4-4cd6-d290-1e55d7f37093"
      },
      "execution_count": null,
      "outputs": [
        {
          "output_type": "execute_result",
          "data": {
            "text/plain": [
              "False"
            ]
          },
          "metadata": {},
          "execution_count": 51
        }
      ]
    },
    {
      "cell_type": "markdown",
      "source": [
        "# Formatting The String"
      ],
      "metadata": {
        "id": "zouWLu9ZqZrU"
      }
    },
    {
      "cell_type": "markdown",
      "source": [
        "## zfill\n",
        "\n",
        "The zfill() method adds zeros (0) at the beginning of the string, until it reaches the specified length.\n",
        "\n",
        "If the value of the len parameter is less than the length of the string, no filling is done.\n",
        "\n",
        "Syntax : *string.zfill(len)*\n",
        "\n",
        "\n",
        "Parameter Values\n",
        "*   len\t=> Required. A number specifying the desired length of the string\n",
        "\n"
      ],
      "metadata": {
        "id": "B2L4G-jLqf0k"
      }
    },
    {
      "cell_type": "code",
      "source": [
        "a = \"hello\""
      ],
      "metadata": {
        "id": "VslBYhAOq6pF"
      },
      "execution_count": null,
      "outputs": []
    },
    {
      "cell_type": "code",
      "source": [
        "a.zfill(10)"
      ],
      "metadata": {
        "colab": {
          "base_uri": "https://localhost:8080/",
          "height": 35
        },
        "id": "_srjFCRcrIzz",
        "outputId": "d8d15ad9-3a55-4667-e75e-2cb08be84bed"
      },
      "execution_count": null,
      "outputs": [
        {
          "output_type": "execute_result",
          "data": {
            "text/plain": [
              "'00000hello'"
            ],
            "application/vnd.google.colaboratory.intrinsic+json": {
              "type": "string"
            }
          },
          "metadata": {},
          "execution_count": 53
        }
      ]
    },
    {
      "cell_type": "code",
      "source": [
        "b = \"welcome to the jungle\""
      ],
      "metadata": {
        "id": "s6TBFobMrLAz"
      },
      "execution_count": null,
      "outputs": []
    },
    {
      "cell_type": "code",
      "source": [
        "b.zfill(10)"
      ],
      "metadata": {
        "colab": {
          "base_uri": "https://localhost:8080/",
          "height": 35
        },
        "id": "bt-jbhbcrQ3R",
        "outputId": "0fc39adb-4537-4f14-d740-963f4df4be89"
      },
      "execution_count": null,
      "outputs": [
        {
          "output_type": "execute_result",
          "data": {
            "text/plain": [
              "'welcome to the jungle'"
            ],
            "application/vnd.google.colaboratory.intrinsic+json": {
              "type": "string"
            }
          },
          "metadata": {},
          "execution_count": 55
        }
      ]
    },
    {
      "cell_type": "code",
      "source": [
        "c = \"10.000\""
      ],
      "metadata": {
        "id": "WTXTXA5PrWI3"
      },
      "execution_count": null,
      "outputs": []
    },
    {
      "cell_type": "code",
      "source": [
        "c.zfill(10)"
      ],
      "metadata": {
        "colab": {
          "base_uri": "https://localhost:8080/",
          "height": 35
        },
        "id": "GAS_zh43rYmt",
        "outputId": "e7b636af-960d-48de-da6a-7420c3a464ce"
      },
      "execution_count": null,
      "outputs": [
        {
          "output_type": "execute_result",
          "data": {
            "text/plain": [
              "'000010.000'"
            ],
            "application/vnd.google.colaboratory.intrinsic+json": {
              "type": "string"
            }
          },
          "metadata": {},
          "execution_count": 57
        }
      ]
    },
    {
      "cell_type": "markdown",
      "source": [
        "#Operation List, Set, dan String"
      ],
      "metadata": {
        "id": "6rTDiyJfg7d7"
      }
    },
    {
      "cell_type": "markdown",
      "source": [
        "len()\n",
        "\n",
        "calculate the length or number of elements of a List"
      ],
      "metadata": {
        "id": "fcz6In-q9_NH"
      }
    },
    {
      "cell_type": "code",
      "source": [
        "#list\n",
        "a = [3,5,5,7,7,7]\n",
        "print(a)"
      ],
      "metadata": {
        "colab": {
          "base_uri": "https://localhost:8080/"
        },
        "id": "6ODuZ3Fo-CFC",
        "outputId": "f2ebd312-f5a1-4e84-d5f2-916d5eae97e3"
      },
      "execution_count": null,
      "outputs": [
        {
          "output_type": "stream",
          "name": "stdout",
          "text": [
            "[3, 5, 5, 7, 7, 7]\n"
          ]
        }
      ]
    },
    {
      "cell_type": "code",
      "source": [
        "len(a)"
      ],
      "metadata": {
        "colab": {
          "base_uri": "https://localhost:8080/"
        },
        "id": "oHVNEpYA-Rbm",
        "outputId": "205fc7ce-ac78-4f6c-dc12-fb5dfa585d93"
      },
      "execution_count": null,
      "outputs": [
        {
          "output_type": "execute_result",
          "data": {
            "text/plain": [
              "6"
            ]
          },
          "metadata": {},
          "execution_count": 3
        }
      ]
    },
    {
      "cell_type": "code",
      "source": [
        "c =\"Data Science\"\n",
        "print(c)"
      ],
      "metadata": {
        "colab": {
          "base_uri": "https://localhost:8080/"
        },
        "id": "TGbZjSYh-bS2",
        "outputId": "b29417fe-644b-4206-c3e2-3d18902770af"
      },
      "execution_count": null,
      "outputs": [
        {
          "output_type": "stream",
          "name": "stdout",
          "text": [
            "Data Science\n"
          ]
        }
      ]
    },
    {
      "cell_type": "code",
      "source": [
        "len(c)"
      ],
      "metadata": {
        "colab": {
          "base_uri": "https://localhost:8080/"
        },
        "id": "-dHixyw3-d4S",
        "outputId": "db39e4b8-54b1-4119-8ae6-19d56c38d809"
      },
      "execution_count": null,
      "outputs": [
        {
          "output_type": "execute_result",
          "data": {
            "text/plain": [
              "12"
            ]
          },
          "metadata": {},
          "execution_count": 5
        }
      ]
    },
    {
      "cell_type": "markdown",
      "source": [
        "min() dan max()\n",
        "\n",
        "The smallest number and the largest number"
      ],
      "metadata": {
        "id": "ByrAdxr8-kg2"
      }
    },
    {
      "cell_type": "code",
      "source": [
        "a = [3,4,5,6,7,8]\n",
        "min(a)\n"
      ],
      "metadata": {
        "colab": {
          "base_uri": "https://localhost:8080/"
        },
        "id": "CAKspWgT-mgA",
        "outputId": "27894c03-4848-447c-e5b1-d43bcdea27a7"
      },
      "execution_count": null,
      "outputs": [
        {
          "output_type": "execute_result",
          "data": {
            "text/plain": [
              "3"
            ]
          },
          "metadata": {},
          "execution_count": 8
        }
      ]
    },
    {
      "cell_type": "code",
      "source": [
        "max(a)"
      ],
      "metadata": {
        "colab": {
          "base_uri": "https://localhost:8080/"
        },
        "id": "X79Y-Gix-zct",
        "outputId": "45025906-9315-450f-eb20-9174c811bd95"
      },
      "execution_count": null,
      "outputs": [
        {
          "output_type": "execute_result",
          "data": {
            "text/plain": [
              "8"
            ]
          },
          "metadata": {},
          "execution_count": 9
        }
      ]
    },
    {
      "cell_type": "markdown",
      "source": [
        "count()\n",
        "\n",
        "Knowing the amount on an object"
      ],
      "metadata": {
        "id": "CM9U4gsf-5cV"
      }
    },
    {
      "cell_type": "code",
      "source": [
        "a = [1,1,1,2,3,4,4]\n",
        "a.count(1)"
      ],
      "metadata": {
        "colab": {
          "base_uri": "https://localhost:8080/"
        },
        "id": "qru6rBYN-6YJ",
        "outputId": "e39bc86a-8494-4151-8cf9-f17d039697a1"
      },
      "execution_count": null,
      "outputs": [
        {
          "output_type": "execute_result",
          "data": {
            "text/plain": [
              "3"
            ]
          },
          "metadata": {},
          "execution_count": 10
        }
      ]
    },
    {
      "cell_type": "markdown",
      "source": [
        "Merging and Replication\n",
        "\n",
        "The list also allows merging (+) and replication (*)"
      ],
      "metadata": {
        "id": "PSrFXBb__EWo"
      }
    },
    {
      "cell_type": "code",
      "source": [
        "a = [1,1,2,2,2,3,3,4,5]"
      ],
      "metadata": {
        "id": "Mq4Ek_5B_F3M"
      },
      "execution_count": null,
      "outputs": []
    },
    {
      "cell_type": "code",
      "source": [
        "b = [\"d\",\"a\",\"t\",\"a\"]"
      ],
      "metadata": {
        "id": "kQ_cASP2_QjW"
      },
      "execution_count": null,
      "outputs": []
    },
    {
      "cell_type": "code",
      "source": [
        "a + b"
      ],
      "metadata": {
        "colab": {
          "base_uri": "https://localhost:8080/"
        },
        "id": "rqgTmdrb_THt",
        "outputId": "2b70cf62-3783-4996-a70d-5d527252c7cd"
      },
      "execution_count": null,
      "outputs": [
        {
          "output_type": "execute_result",
          "data": {
            "text/plain": [
              "[1, 1, 2, 2, 2, 3, 3, 4, 5, 'd', 'a', 't', 'a']"
            ]
          },
          "metadata": {},
          "execution_count": 13
        }
      ]
    },
    {
      "cell_type": "code",
      "source": [
        "b*2"
      ],
      "metadata": {
        "colab": {
          "base_uri": "https://localhost:8080/"
        },
        "id": "wYMojMlY_V1C",
        "outputId": "88b35cab-3519-4f81-dbba-4e20c9d3c9da"
      },
      "execution_count": null,
      "outputs": [
        {
          "output_type": "execute_result",
          "data": {
            "text/plain": [
              "['d', 'a', 't', 'a', 'd', 'a', 't', 'a']"
            ]
          },
          "metadata": {},
          "execution_count": 15
        }
      ]
    },
    {
      "cell_type": "markdown",
      "source": [
        "You can also use the multiplier function to initialize a list"
      ],
      "metadata": {
        "id": "25LG2K9q_eZO"
      }
    },
    {
      "cell_type": "code",
      "source": [
        "tiga = [3]*3"
      ],
      "metadata": {
        "id": "8CuIwbQ3_fZl"
      },
      "execution_count": null,
      "outputs": []
    },
    {
      "cell_type": "code",
      "source": [
        "print(tiga)"
      ],
      "metadata": {
        "colab": {
          "base_uri": "https://localhost:8080/"
        },
        "id": "USbR6FQt_jU3",
        "outputId": "5b257fec-59a7-45cf-d659-76fcd015c9d8"
      },
      "execution_count": null,
      "outputs": [
        {
          "output_type": "stream",
          "name": "stdout",
          "text": [
            "[3, 3, 3]\n"
          ]
        }
      ]
    },
    {
      "cell_type": "code",
      "source": [
        "len(tiga)"
      ],
      "metadata": {
        "colab": {
          "base_uri": "https://localhost:8080/"
        },
        "id": "f2JZLlOv_mFY",
        "outputId": "8bf7f556-f0cf-4eac-c2b0-cfaf757363e1"
      },
      "execution_count": null,
      "outputs": [
        {
          "output_type": "execute_result",
          "data": {
            "text/plain": [
              "3"
            ]
          },
          "metadata": {},
          "execution_count": 18
        }
      ]
    },
    {
      "cell_type": "markdown",
      "source": [
        "Range\n",
        "\n",
        "1. the range() function returns a series of months with a certain pattern\n",
        "\n",
        "2. To perform loops (eg for) in accessing list elements, you can use the range() function in python.\n",
        "\n",
        "3. More details about loop operations will be discussed in the loop module\n",
        "\n",
        "range function can have 1-3 parameters\n",
        "\n",
        "range with 1 parameter n: create a series of numbers starting from 0, as many as n numbers"
      ],
      "metadata": {
        "id": "wNZcEXA5_rOQ"
      }
    },
    {
      "cell_type": "code",
      "source": [
        "for i in range(3):\n",
        "  print(i)"
      ],
      "metadata": {
        "colab": {
          "base_uri": "https://localhost:8080/"
        },
        "id": "0AY7ynpp_zoO",
        "outputId": "3a1172fa-3564-4192-deb3-91bc50af63c3"
      },
      "execution_count": null,
      "outputs": [
        {
          "output_type": "stream",
          "name": "stdout",
          "text": [
            "0\n",
            "1\n",
            "2\n"
          ]
        }
      ]
    },
    {
      "cell_type": "markdown",
      "source": [
        "1. Range with 2 parameters n,p: create a series of numbers starting from n, until before p (number p does not follow)\n",
        "2. Often referred to as inclusive n (series starting with the number n) and exclusive p (series not including numbers p)"
      ],
      "metadata": {
        "id": "afbKrfBT_8Nb"
      }
    },
    {
      "cell_type": "code",
      "source": [
        "for i in range(2,5):\n",
        "  print(i)"
      ],
      "metadata": {
        "colab": {
          "base_uri": "https://localhost:8080/"
        },
        "id": "2tEyS9VQ__Tl",
        "outputId": "9ecc0dfc-9571-4292-8ab6-7630e2ac1229"
      },
      "execution_count": null,
      "outputs": [
        {
          "output_type": "stream",
          "name": "stdout",
          "text": [
            "2\n",
            "3\n",
            "4\n"
          ]
        }
      ]
    },
    {
      "cell_type": "markdown",
      "source": [
        "1. Range with 3 parameters n, p, q: create a series of numbers starting from n, until before p (the number p does not follow) with each element having a difference of q"
      ],
      "metadata": {
        "id": "D2tcbA8-AE4O"
      }
    },
    {
      "cell_type": "code",
      "source": [
        "for i in range(0,10,2):\n",
        "    print(i)"
      ],
      "metadata": {
        "colab": {
          "base_uri": "https://localhost:8080/"
        },
        "id": "-e-w4XQ8AHqH",
        "outputId": "9b1e0284-341a-4e03-f141-5187341ec431"
      },
      "execution_count": null,
      "outputs": [
        {
          "output_type": "stream",
          "name": "stdout",
          "text": [
            "0\n",
            "2\n",
            "4\n",
            "6\n",
            "8\n"
          ]
        }
      ]
    },
    {
      "cell_type": "markdown",
      "source": [
        "in and not in\n",
        "\n",
        "operators in and not in: to find out a value or object is in the list\n",
        "\n",
        "this function will return a boolean value True or False\n"
      ],
      "metadata": {
        "id": "GaDSMNelAYj4"
      }
    },
    {
      "cell_type": "code",
      "source": [
        "kita = \"aku dan kamu\""
      ],
      "metadata": {
        "id": "O0GpdFEqAZat"
      },
      "execution_count": null,
      "outputs": []
    },
    {
      "cell_type": "code",
      "source": [
        "\"aku\" in kita"
      ],
      "metadata": {
        "colab": {
          "base_uri": "https://localhost:8080/"
        },
        "id": "6yEgrTb5Acet",
        "outputId": "1bcc26e8-7470-4e3c-aefd-c2a8955b2903"
      },
      "execution_count": null,
      "outputs": [
        {
          "output_type": "execute_result",
          "data": {
            "text/plain": [
              "True"
            ]
          },
          "metadata": {},
          "execution_count": 24
        }
      ]
    },
    {
      "cell_type": "code",
      "source": [
        "\"dia\"in kita"
      ],
      "metadata": {
        "colab": {
          "base_uri": "https://localhost:8080/"
        },
        "id": "Rshom9azAeqj",
        "outputId": "711f7d12-b5a0-4dae-a8d6-2784f9a370fc"
      },
      "execution_count": null,
      "outputs": [
        {
          "output_type": "execute_result",
          "data": {
            "text/plain": [
              "False"
            ]
          },
          "metadata": {},
          "execution_count": 25
        }
      ]
    },
    {
      "cell_type": "code",
      "source": [
        "\"kamu\" not in kita"
      ],
      "metadata": {
        "colab": {
          "base_uri": "https://localhost:8080/"
        },
        "id": "S0wojcxgAiu_",
        "outputId": "ef5fe83c-9763-4f36-83e7-61a4df1cdcc2"
      },
      "execution_count": null,
      "outputs": [
        {
          "output_type": "execute_result",
          "data": {
            "text/plain": [
              "False"
            ]
          },
          "metadata": {},
          "execution_count": 26
        }
      ]
    },
    {
      "cell_type": "markdown",
      "source": [
        "Assign values ​​to multiple variables\n",
        "\n",
        "has multiple variables and needs to assign values ​​to those variables."
      ],
      "metadata": {
        "id": "TbvrCKYQApZ6"
      }
    },
    {
      "cell_type": "code",
      "source": [
        "makanan = [\"Bakso\", \"Bakso teluar\", \"pedas\"]"
      ],
      "metadata": {
        "id": "1rQVeQNvAqMJ"
      },
      "execution_count": null,
      "outputs": []
    },
    {
      "cell_type": "code",
      "source": [
        "print(makanan)"
      ],
      "metadata": {
        "colab": {
          "base_uri": "https://localhost:8080/"
        },
        "id": "uTY88wt1As3c",
        "outputId": "cce57d25-723c-45ce-af60-9d03be9295a6"
      },
      "execution_count": null,
      "outputs": [
        {
          "output_type": "stream",
          "name": "stdout",
          "text": [
            "['Bakso', 'Bakso teluar', 'pedas']\n"
          ]
        }
      ]
    },
    {
      "cell_type": "code",
      "source": [
        "nama = makanan[0]\n",
        "print(nama)"
      ],
      "metadata": {
        "colab": {
          "base_uri": "https://localhost:8080/"
        },
        "id": "lC074MmgAvUk",
        "outputId": "0040d9dd-e8cf-44d1-d571-12f7aa3ace57"
      },
      "execution_count": null,
      "outputs": [
        {
          "output_type": "stream",
          "name": "stdout",
          "text": [
            "Bakso\n"
          ]
        }
      ]
    },
    {
      "cell_type": "code",
      "source": [
        "jenis = makanan[1]\n",
        "print(jenis)"
      ],
      "metadata": {
        "colab": {
          "base_uri": "https://localhost:8080/"
        },
        "id": "3BdOAVyYA24s",
        "outputId": "58a621b7-e9f6-491d-ef46-042f75c4b975"
      },
      "execution_count": null,
      "outputs": [
        {
          "output_type": "stream",
          "name": "stdout",
          "text": [
            "Bakso teluar\n"
          ]
        }
      ]
    },
    {
      "cell_type": "code",
      "source": [
        "rasa = makanan[2]\n",
        "print(rasa)"
      ],
      "metadata": {
        "colab": {
          "base_uri": "https://localhost:8080/"
        },
        "id": "UcpQru3LBDd_",
        "outputId": "d4c94847-b362-4a43-f3b9-306dc8ee8809"
      },
      "execution_count": null,
      "outputs": [
        {
          "output_type": "stream",
          "name": "stdout",
          "text": [
            "pedas\n"
          ]
        }
      ]
    },
    {
      "cell_type": "markdown",
      "source": [
        "Sort()\n",
        "\n",
        "1. sort numbers or order of letters\n",
        "2. can use list"
      ],
      "metadata": {
        "id": "JWZou9xQBLbd"
      }
    },
    {
      "cell_type": "code",
      "source": [
        "nilai = [40,20,30,10,50]"
      ],
      "metadata": {
        "id": "lhaijPg5BNvp"
      },
      "execution_count": null,
      "outputs": []
    },
    {
      "cell_type": "code",
      "source": [
        "nilai.sort()\n",
        "print(nilai)"
      ],
      "metadata": {
        "colab": {
          "base_uri": "https://localhost:8080/"
        },
        "id": "VKRjxXQ7BQ_n",
        "outputId": "ce84ad11-0d02-420a-a575-83b6b7121f7a"
      },
      "execution_count": null,
      "outputs": [
        {
          "output_type": "stream",
          "name": "stdout",
          "text": [
            "[10, 20, 30, 40, 50]\n"
          ]
        }
      ]
    },
    {
      "cell_type": "markdown",
      "source": [
        "We can also enter the keyword reverse=True in the parameter to make the order reverse"
      ],
      "metadata": {
        "id": "wow94TU6CATf"
      }
    },
    {
      "cell_type": "code",
      "source": [
        "huruf = [\"d\", \"i\", \"a\"]"
      ],
      "metadata": {
        "id": "7zLZOfWCCBI-"
      },
      "execution_count": null,
      "outputs": []
    },
    {
      "cell_type": "code",
      "source": [
        "huruf.sort()\n",
        "print(huruf)"
      ],
      "metadata": {
        "colab": {
          "base_uri": "https://localhost:8080/"
        },
        "id": "6HuM97mACDlR",
        "outputId": "9000a19f-93ba-465d-9d37-a456043cb26a"
      },
      "execution_count": null,
      "outputs": [
        {
          "output_type": "stream",
          "name": "stdout",
          "text": [
            "['a', 'd', 'i']\n"
          ]
        }
      ]
    },
    {
      "cell_type": "code",
      "source": [
        "huruf.sort(reverse=True)\n",
        "print(huruf)"
      ],
      "metadata": {
        "colab": {
          "base_uri": "https://localhost:8080/"
        },
        "id": "Ryu1zFGwCGzU",
        "outputId": "e309cbbc-2488-48ae-84e9-e17fbc884216"
      },
      "execution_count": null,
      "outputs": [
        {
          "output_type": "stream",
          "name": "stdout",
          "text": [
            "['i', 'd', 'a']\n"
          ]
        }
      ]
    },
    {
      "cell_type": "markdown",
      "source": [
        "The sort method uses a sequence of capital letters (uppercase) to be preceded by lowercase letters (lowercase)."
      ],
      "metadata": {
        "id": "MMrkOexTCNTm"
      }
    },
    {
      "cell_type": "code",
      "source": [
        "nama = [\"Budi\",\"calvin\", \"andi\"]\n",
        "nama.sort()\n",
        "print(nama)"
      ],
      "metadata": {
        "colab": {
          "base_uri": "https://localhost:8080/"
        },
        "id": "D2_RtASeCQy0",
        "outputId": "908efe64-9794-4a51-b73d-361c642a8369"
      },
      "execution_count": null,
      "outputs": [
        {
          "output_type": "stream",
          "name": "stdout",
          "text": [
            "['Budi', 'andi', 'calvin']\n"
          ]
        }
      ]
    },
    {
      "cell_type": "markdown",
      "source": [
        "1. We can enter the keyword str.lower in the parameter\n",
        "2. Today we will make the sort method assume all objects are lowercase, without changing the original state of the object"
      ],
      "metadata": {
        "id": "pJzqNYDbCY4u"
      }
    },
    {
      "cell_type": "code",
      "source": [
        "nama = [\"Budi\", \"calvin\", \"andi\"]\n",
        "nama.sort(key=str.lower)\n",
        "print(nama)"
      ],
      "metadata": {
        "colab": {
          "base_uri": "https://localhost:8080/"
        },
        "id": "9su3YpntCb23",
        "outputId": "59ec574a-1389-4dd5-8558-971ca2ddec8b"
      },
      "execution_count": null,
      "outputs": [
        {
          "output_type": "stream",
          "name": "stdout",
          "text": [
            "['andi', 'Budi', 'calvin']\n"
          ]
        }
      ]
    },
    {
      "cell_type": "code",
      "source": [
        "#Bagian Eri"
      ],
      "metadata": {
        "id": "TP4i48E-HI7q"
      },
      "execution_count": null,
      "outputs": []
    },
    {
      "cell_type": "markdown",
      "source": [
        "**Assign Values to Multiple Variables**\n",
        "\n",
        "Mark the variables with the desired value, one by one"
      ],
      "metadata": {
        "id": "Lx76kAxP6nmN"
      }
    },
    {
      "cell_type": "code",
      "execution_count": null,
      "metadata": {
        "colab": {
          "base_uri": "https://localhost:8080/"
        },
        "id": "3q6ctiDh6Kq1",
        "outputId": "60c159d4-b8b9-4ae3-f78e-056f80d7a144"
      },
      "outputs": [
        {
          "output_type": "stream",
          "name": "stdout",
          "text": [
            "Nicole\n",
            "University of Toronto\n",
            "psychology\n",
            "Nicole University of Toronto psychology\n"
          ]
        }
      ],
      "source": [
        "# Example \n",
        "x = [\"Nicole\",\"University of Toronto\",\"psychology\"]\n",
        "name=x[0]\n",
        "university = x [1]\n",
        "major = x [2]\n",
        "print(name)\n",
        "print(university)\n",
        "print(major)\n",
        "print(name,university,major)"
      ]
    },
    {
      "cell_type": "markdown",
      "source": [
        "\n",
        "**Assign Values to Multiple Variables**\n",
        "\n",
        "Assigns values to multiple variables from a list or tuple element without marking them individually"
      ],
      "metadata": {
        "id": "sblVA324j-RW"
      }
    },
    {
      "cell_type": "code",
      "source": [
        "# Example \n",
        "y = [\"sneakers\",\"Nike\",\"black\"]\n",
        "name, brand, color = y\n",
        "print(name)\n",
        "print(brand)\n",
        "print(color)"
      ],
      "metadata": {
        "colab": {
          "base_uri": "https://localhost:8080/"
        },
        "id": "vvz0VI1kAEJR",
        "outputId": "c32d04ab-174d-4355-bdc4-b263e2dc855b"
      },
      "execution_count": null,
      "outputs": [
        {
          "output_type": "stream",
          "name": "stdout",
          "text": [
            "sneakers\n",
            "Nike\n",
            "black\n"
          ]
        }
      ]
    },
    {
      "cell_type": "markdown",
      "source": [
        "The number of variables and the number of items in the list/tuple must be the same"
      ],
      "metadata": {
        "id": "nSyWP_SCoGU7"
      }
    },
    {
      "cell_type": "code",
      "source": [
        "# Example \n",
        "y = [\"sneakers\",\"Nike\",\"black\"]\n",
        "name, brand, color, price = y\n",
        "print(name)"
      ],
      "metadata": {
        "colab": {
          "base_uri": "https://localhost:8080/",
          "height": 200
        },
        "id": "8T8PscZylPXo",
        "outputId": "44d79362-f849-4c87-8fb2-7c8bdee41ac3"
      },
      "execution_count": null,
      "outputs": [
        {
          "output_type": "error",
          "ename": "ValueError",
          "evalue": "ignored",
          "traceback": [
            "\u001b[0;31m---------------------------------------------------------------------------\u001b[0m",
            "\u001b[0;31mValueError\u001b[0m                                Traceback (most recent call last)",
            "\u001b[0;32m<ipython-input-77-c7a3e45fd933>\u001b[0m in \u001b[0;36m<module>\u001b[0;34m()\u001b[0m\n\u001b[1;32m      1\u001b[0m \u001b[0my\u001b[0m \u001b[0;34m=\u001b[0m \u001b[0;34m[\u001b[0m\u001b[0;34m\"sneakers\"\u001b[0m\u001b[0;34m,\u001b[0m\u001b[0;34m\"Nike\"\u001b[0m\u001b[0;34m,\u001b[0m\u001b[0;34m\"black\"\u001b[0m\u001b[0;34m]\u001b[0m\u001b[0;34m\u001b[0m\u001b[0;34m\u001b[0m\u001b[0m\n\u001b[0;32m----> 2\u001b[0;31m \u001b[0mname\u001b[0m\u001b[0;34m,\u001b[0m \u001b[0mbrand\u001b[0m\u001b[0;34m,\u001b[0m \u001b[0mcolor\u001b[0m\u001b[0;34m,\u001b[0m \u001b[0mprice\u001b[0m \u001b[0;34m=\u001b[0m \u001b[0my\u001b[0m\u001b[0;34m\u001b[0m\u001b[0;34m\u001b[0m\u001b[0m\n\u001b[0m\u001b[1;32m      3\u001b[0m \u001b[0mprint\u001b[0m\u001b[0;34m(\u001b[0m\u001b[0mname\u001b[0m\u001b[0;34m)\u001b[0m\u001b[0;34m\u001b[0m\u001b[0;34m\u001b[0m\u001b[0m\n",
            "\u001b[0;31mValueError\u001b[0m: not enough values to unpack (expected 4, got 3)"
          ]
        }
      ]
    },
    {
      "cell_type": "markdown",
      "source": [
        "Assignment to multiple variables can be used to swap the values of two or more variables"
      ],
      "metadata": {
        "id": "4-jIsR8LmQdS"
      }
    },
    {
      "cell_type": "code",
      "source": [
        "# Example \n",
        "snack, flavor = \"potato chips\",\"roast beef\"\n",
        "snack, flavor = flavor, snack\n",
        "print(snack)\n",
        "print(flavor)"
      ],
      "metadata": {
        "colab": {
          "base_uri": "https://localhost:8080/"
        },
        "id": "kX-Dxx9jIhOa",
        "outputId": "e451c04d-44a0-4c12-a58e-d6954aa4b060"
      },
      "execution_count": null,
      "outputs": [
        {
          "output_type": "stream",
          "name": "stdout",
          "text": [
            "roast beef\n",
            "potato chips\n"
          ]
        }
      ]
    },
    {
      "cell_type": "markdown",
      "source": [
        "**Sort**\n",
        "\n",
        "The method sorts the elements of a given list in a specific ascending or descending order.\n",
        "\n",
        "can be used to sort a list of integers, floating-point numbers, strings, and others."
      ],
      "metadata": {
        "id": "JtZK63AOmeO7"
      }
    },
    {
      "cell_type": "markdown",
      "source": [
        "Ascending\n",
        "\n",
        "Sort the List in Ascending Order"
      ],
      "metadata": {
        "id": "zfUa6NyGpWWy"
      }
    },
    {
      "cell_type": "code",
      "source": [
        "# Example (Sort the list number)\n",
        "number=[20,25,7,14,30,40]\n",
        "number.sort()\n",
        "print(number)"
      ],
      "metadata": {
        "colab": {
          "base_uri": "https://localhost:8080/"
        },
        "id": "-trGtmQDKHDW",
        "outputId": "8a34caba-142f-4681-b1ae-6ded857cd4e2"
      },
      "execution_count": null,
      "outputs": [
        {
          "output_type": "stream",
          "name": "stdout",
          "text": [
            "[7, 14, 20, 25, 30, 40]\n"
          ]
        }
      ]
    },
    {
      "cell_type": "code",
      "source": [
        "# Example (Sort the list string)\n",
        "color=[\"blue\",\"red\",\"yellow\",\"green\"]\n",
        "color.sort()\n",
        "print(color)"
      ],
      "metadata": {
        "colab": {
          "base_uri": "https://localhost:8080/"
        },
        "id": "en_9-OCCK5UD",
        "outputId": "9075202f-39b0-45e6-9cd7-83abb6cd42ba"
      },
      "execution_count": null,
      "outputs": [
        {
          "output_type": "stream",
          "name": "stdout",
          "text": [
            "['blue', 'green', 'red', 'yellow']\n"
          ]
        }
      ]
    },
    {
      "cell_type": "markdown",
      "source": [
        "Descending\n",
        "\n",
        "\n",
        "reverse - If , the sorted list is reversed (or sorted in Descending order)\n",
        "\n",
        "key - function that serves as a key for the sort comparison"
      ],
      "metadata": {
        "id": "Dy-1DQULqirP"
      }
    },
    {
      "cell_type": "code",
      "source": [
        "# Example \n",
        "name = [\"Oliver\",\"William\",\"Jaxson\",\"Lucas\"]\n",
        "name.sort(reverse=True)\n",
        "print(name)"
      ],
      "metadata": {
        "colab": {
          "base_uri": "https://localhost:8080/"
        },
        "id": "mtRh_L9LMXGl",
        "outputId": "b1ceccca-3b30-442e-ea26-e57c043aaca5"
      },
      "execution_count": null,
      "outputs": [
        {
          "output_type": "stream",
          "name": "stdout",
          "text": [
            "['William', 'Oliver', 'Lucas', 'Jaxson']\n"
          ]
        }
      ]
    },
    {
      "cell_type": "markdown",
      "source": [
        "Can't sort a list that has both a number and a string in it"
      ],
      "metadata": {
        "id": "xZ97TU4LtC_j"
      }
    },
    {
      "cell_type": "code",
      "source": [
        "# Example \n",
        "clothes = [\"jacket\",\"pants\",28,\"t-shirt\",30]"
      ],
      "metadata": {
        "id": "KC0-X4uyNWVr"
      },
      "execution_count": null,
      "outputs": []
    },
    {
      "cell_type": "code",
      "source": [
        "clothes.sort()"
      ],
      "metadata": {
        "colab": {
          "base_uri": "https://localhost:8080/",
          "height": 165
        },
        "id": "5iDH9EbsN_dY",
        "outputId": "4bad1a5c-4cc4-4ad6-a856-84f7808a6a51"
      },
      "execution_count": null,
      "outputs": [
        {
          "output_type": "error",
          "ename": "TypeError",
          "evalue": "ignored",
          "traceback": [
            "\u001b[0;31m---------------------------------------------------------------------------\u001b[0m",
            "\u001b[0;31mTypeError\u001b[0m                                 Traceback (most recent call last)",
            "\u001b[0;32m<ipython-input-59-42d548e32cac>\u001b[0m in \u001b[0;36m<module>\u001b[0;34m()\u001b[0m\n\u001b[0;32m----> 1\u001b[0;31m \u001b[0mclothes\u001b[0m\u001b[0;34m.\u001b[0m\u001b[0msort\u001b[0m\u001b[0;34m(\u001b[0m\u001b[0;34m)\u001b[0m\u001b[0;34m\u001b[0m\u001b[0;34m\u001b[0m\u001b[0m\n\u001b[0m",
            "\u001b[0;31mTypeError\u001b[0m: '<' not supported between instances of 'int' and 'str'"
          ]
        }
      ]
    },
    {
      "cell_type": "markdown",
      "source": [
        "Enter the keyword str.lower in the parameter. To assume all objects are lowercase, without changing the object's original state"
      ],
      "metadata": {
        "id": "56rLmVFduesL"
      }
    },
    {
      "cell_type": "code",
      "source": [
        "# Example \n",
        "fruit = [\"apple\",\"Watermelon\",\"Banana\",\"strawberry\"]\n",
        "fruit.sort(key=str.lower)\n",
        "print(fruit)"
      ],
      "metadata": {
        "colab": {
          "base_uri": "https://localhost:8080/"
        },
        "id": "BWoV7wtYOybW",
        "outputId": "18654bbb-3560-46ef-cbbf-55e2412fda34"
      },
      "execution_count": null,
      "outputs": [
        {
          "output_type": "stream",
          "name": "stdout",
          "text": [
            "['apple', 'Banana', 'strawberry', 'Watermelon']\n"
          ]
        }
      ]
    },
    {
      "cell_type": "markdown",
      "source": [
        "# **Operator, Operands, and Expressions**\n",
        "\n",
        "Operators are the constructs which can manipulate the value of operands.\n",
        "\n",
        "Consider the expression 7 + 5 = 12. Here, 7 and 5 are called operands and + is called operator."
      ],
      "metadata": {
        "id": "ud7OcOgUU442"
      }
    },
    {
      "cell_type": "markdown",
      "source": [
        "(\\+) Addition\n",
        "\n",
        "Adds values on either side of the operator."
      ],
      "metadata": {
        "id": "9P3Nj-sYWf_D"
      }
    },
    {
      "cell_type": "code",
      "source": [
        "52+8"
      ],
      "metadata": {
        "colab": {
          "base_uri": "https://localhost:8080/"
        },
        "id": "7ATmvtzsWWQ1",
        "outputId": "84380b5b-bf20-4647-d02e-65aefab3338b"
      },
      "execution_count": null,
      "outputs": [
        {
          "output_type": "execute_result",
          "data": {
            "text/plain": [
              "60"
            ]
          },
          "metadata": {},
          "execution_count": 32
        }
      ]
    },
    {
      "cell_type": "code",
      "source": [
        "\"Mi\"+\"cro\"+\"soft\""
      ],
      "metadata": {
        "colab": {
          "base_uri": "https://localhost:8080/",
          "height": 35
        },
        "id": "aSC0FjVXWwMC",
        "outputId": "f8cf922f-b161-4b2a-e4e6-9a0125b40a85"
      },
      "execution_count": null,
      "outputs": [
        {
          "output_type": "execute_result",
          "data": {
            "text/plain": [
              "'Microsoft'"
            ],
            "application/vnd.google.colaboratory.intrinsic+json": {
              "type": "string"
            }
          },
          "metadata": {},
          "execution_count": 5
        }
      ]
    },
    {
      "cell_type": "markdown",
      "source": [
        "(\\-) subtraction\n",
        "\n",
        "Subtracts right hand operand from left hand operand."
      ],
      "metadata": {
        "id": "tknwG9VoXpuB"
      }
    },
    {
      "cell_type": "code",
      "source": [
        "263-21"
      ],
      "metadata": {
        "colab": {
          "base_uri": "https://localhost:8080/"
        },
        "id": "wIFii-jqXm_T",
        "outputId": "49f9d1c3-31fd-417b-f7f3-bb053d361f48"
      },
      "execution_count": null,
      "outputs": [
        {
          "output_type": "execute_result",
          "data": {
            "text/plain": [
              "242"
            ]
          },
          "metadata": {},
          "execution_count": 6
        }
      ]
    },
    {
      "cell_type": "code",
      "source": [
        "\"Microsoft\"-\"soft\""
      ],
      "metadata": {
        "colab": {
          "base_uri": "https://localhost:8080/",
          "height": 165
        },
        "id": "BY5XUhryXy3Y",
        "outputId": "063aaf43-d1a3-4ab0-96a8-92b6bd8b928c"
      },
      "execution_count": null,
      "outputs": [
        {
          "output_type": "error",
          "ename": "TypeError",
          "evalue": "ignored",
          "traceback": [
            "\u001b[0;31m---------------------------------------------------------------------------\u001b[0m",
            "\u001b[0;31mTypeError\u001b[0m                                 Traceback (most recent call last)",
            "\u001b[0;32m<ipython-input-7-8fd6f7d0a323>\u001b[0m in \u001b[0;36m<module>\u001b[0;34m()\u001b[0m\n\u001b[0;32m----> 1\u001b[0;31m \u001b[0;34m\"Microsoft\"\u001b[0m\u001b[0;34m-\u001b[0m\u001b[0;34m\"soft\"\u001b[0m\u001b[0;34m\u001b[0m\u001b[0;34m\u001b[0m\u001b[0m\n\u001b[0m",
            "\u001b[0;31mTypeError\u001b[0m: unsupported operand type(s) for -: 'str' and 'str'"
          ]
        }
      ]
    },
    {
      "cell_type": "markdown",
      "source": [
        "(\\*) multiply\n",
        "\n",
        "Gives the multiplication of the two numbers or returns the string repeated that many times."
      ],
      "metadata": {
        "id": "IqxywkQfX-_6"
      }
    },
    {
      "cell_type": "code",
      "source": [
        "40*103"
      ],
      "metadata": {
        "colab": {
          "base_uri": "https://localhost:8080/"
        },
        "id": "q4sWItTeYDNI",
        "outputId": "ef29a2a6-5cdd-4931-facc-0ec383c89a05"
      },
      "execution_count": null,
      "outputs": [
        {
          "output_type": "execute_result",
          "data": {
            "text/plain": [
              "4120"
            ]
          },
          "metadata": {},
          "execution_count": 8
        }
      ]
    },
    {
      "cell_type": "code",
      "source": [
        "\"okay\"*4"
      ],
      "metadata": {
        "colab": {
          "base_uri": "https://localhost:8080/",
          "height": 35
        },
        "id": "4gWVgZQ_YXTn",
        "outputId": "90c6b72d-707e-4b24-9b0e-74be233c61ea"
      },
      "execution_count": null,
      "outputs": [
        {
          "output_type": "execute_result",
          "data": {
            "text/plain": [
              "'okayokayokayokay'"
            ],
            "application/vnd.google.colaboratory.intrinsic+json": {
              "type": "string"
            }
          },
          "metadata": {},
          "execution_count": 10
        }
      ]
    },
    {
      "cell_type": "markdown",
      "source": [
        "(\\**) Exponent\n",
        "\n",
        "Performs exponential (power) calculation on operators"
      ],
      "metadata": {
        "id": "vR0iMzeFYyEV"
      }
    },
    {
      "cell_type": "code",
      "source": [
        "15**5"
      ],
      "metadata": {
        "colab": {
          "base_uri": "https://localhost:8080/"
        },
        "id": "fhQWtKClY3KO",
        "outputId": "a7afe0eb-6964-4035-e4a5-ac8deff86a78"
      },
      "execution_count": null,
      "outputs": [
        {
          "output_type": "execute_result",
          "data": {
            "text/plain": [
              "759375"
            ]
          },
          "metadata": {},
          "execution_count": 13
        }
      ]
    },
    {
      "cell_type": "markdown",
      "source": [
        "(\\**0.5) squared root"
      ],
      "metadata": {
        "id": "snTFHYvVZcMX"
      }
    },
    {
      "cell_type": "code",
      "source": [
        "81**0.5"
      ],
      "metadata": {
        "colab": {
          "base_uri": "https://localhost:8080/"
        },
        "id": "qIxDLR-aZd9c",
        "outputId": "d5b17f9f-c7fd-46c4-fcbd-320c6f3172e2"
      },
      "execution_count": null,
      "outputs": [
        {
          "output_type": "execute_result",
          "data": {
            "text/plain": [
              "9.0"
            ]
          },
          "metadata": {},
          "execution_count": 18
        }
      ]
    },
    {
      "cell_type": "markdown",
      "source": [
        "(\\/) division \n",
        "\n",
        "Divides left hand operand by right hand operand"
      ],
      "metadata": {
        "id": "kEgcQXwfaXyF"
      }
    },
    {
      "cell_type": "code",
      "source": [
        "1200/25"
      ],
      "metadata": {
        "colab": {
          "base_uri": "https://localhost:8080/"
        },
        "id": "BbrBmFf9aWfb",
        "outputId": "aa00cf82-f5d6-4456-c8ee-e86ee4a5f9ff"
      },
      "execution_count": null,
      "outputs": [
        {
          "output_type": "execute_result",
          "data": {
            "text/plain": [
              "48.0"
            ]
          },
          "metadata": {},
          "execution_count": 19
        }
      ]
    },
    {
      "cell_type": "markdown",
      "source": [
        "(\\//) floor division\n",
        "\n",
        "The division of operands where the result is the quotient in which the digits after the decimal point are removed. But if one of the operands is negative, the result is floored, ie, rounded away from zero (towards negative infinity) "
      ],
      "metadata": {
        "id": "WEmYwd--a-a0"
      }
    },
    {
      "cell_type": "code",
      "source": [
        "75//16"
      ],
      "metadata": {
        "colab": {
          "base_uri": "https://localhost:8080/"
        },
        "id": "ErCSSUVjbC2v",
        "outputId": "c4b8313e-aa04-427d-a995-7ffe7cbe5d4d"
      },
      "execution_count": null,
      "outputs": [
        {
          "output_type": "execute_result",
          "data": {
            "text/plain": [
              "4"
            ]
          },
          "metadata": {},
          "execution_count": 21
        }
      ]
    },
    {
      "cell_type": "code",
      "source": [
        "40//8"
      ],
      "metadata": {
        "colab": {
          "base_uri": "https://localhost:8080/"
        },
        "id": "Dixy1b5Zcofx",
        "outputId": "c25134ad-8df8-41cc-e3f2-274734c522df"
      },
      "execution_count": null,
      "outputs": [
        {
          "output_type": "execute_result",
          "data": {
            "text/plain": [
              "5"
            ]
          },
          "metadata": {},
          "execution_count": 22
        }
      ]
    },
    {
      "cell_type": "markdown",
      "source": [
        "(\\%) modulo\n",
        "\n",
        "Divides left hand operand by right hand operand and returns remainder"
      ],
      "metadata": {
        "id": "wb9EPOJ9cxJn"
      }
    },
    {
      "cell_type": "code",
      "source": [
        "63%5\n"
      ],
      "metadata": {
        "colab": {
          "base_uri": "https://localhost:8080/"
        },
        "id": "xnd0KQrgcwBZ",
        "outputId": "a978d8f0-a1c7-4fe8-a860-4a5280d23105"
      },
      "execution_count": null,
      "outputs": [
        {
          "output_type": "execute_result",
          "data": {
            "text/plain": [
              "3"
            ]
          },
          "metadata": {},
          "execution_count": 30
        }
      ]
    },
    {
      "cell_type": "code",
      "source": [
        "15%4.5"
      ],
      "metadata": {
        "colab": {
          "base_uri": "https://localhost:8080/"
        },
        "id": "qt1LIlqfezHp",
        "outputId": "5c43327d-a892-434f-b881-d03466074df9"
      },
      "execution_count": null,
      "outputs": [
        {
          "output_type": "execute_result",
          "data": {
            "text/plain": [
              "1.5"
            ]
          },
          "metadata": {},
          "execution_count": 31
        }
      ]
    },
    {
      "cell_type": "markdown",
      "source": [
        "Less than (<)\n",
        "\n",
        "will return boolean values, True or False"
      ],
      "metadata": {
        "id": "kVDRQT8pc_Gp"
      }
    },
    {
      "cell_type": "code",
      "source": [
        "1<2"
      ],
      "metadata": {
        "colab": {
          "base_uri": "https://localhost:8080/"
        },
        "id": "csJK3JDac2-w",
        "outputId": "9af111c7-f63a-4604-92e0-19abf7dbee70"
      },
      "execution_count": null,
      "outputs": [
        {
          "output_type": "execute_result",
          "data": {
            "text/plain": [
              "True"
            ]
          },
          "metadata": {},
          "execution_count": 1
        }
      ]
    },
    {
      "cell_type": "code",
      "execution_count": null,
      "metadata": {
        "colab": {
          "base_uri": "https://localhost:8080/"
        },
        "id": "UnqWevXL870-",
        "outputId": "0bc42bc0-527b-4930-d74c-8fea5c775da1"
      },
      "outputs": [
        {
          "output_type": "execute_result",
          "data": {
            "text/plain": [
              "True"
            ]
          },
          "metadata": {},
          "execution_count": 5
        }
      ],
      "source": [
        "1<2<5<6"
      ]
    },
    {
      "cell_type": "markdown",
      "source": [
        "Greater than (>)"
      ],
      "metadata": {
        "id": "BfmGdxkJdW8g"
      }
    },
    {
      "cell_type": "code",
      "source": [
        "1>2"
      ],
      "metadata": {
        "colab": {
          "base_uri": "https://localhost:8080/"
        },
        "id": "Ujc8Z4Vp-Cfm",
        "outputId": "ddc4fe42-8f5f-4369-9d51-3271f70ce961"
      },
      "execution_count": null,
      "outputs": [
        {
          "output_type": "execute_result",
          "data": {
            "text/plain": [
              "False"
            ]
          },
          "metadata": {},
          "execution_count": 6
        }
      ]
    },
    {
      "cell_type": "markdown",
      "source": [
        "Less than or equal to (<=)"
      ],
      "metadata": {
        "id": "BwD0TTYodlrV"
      }
    },
    {
      "cell_type": "code",
      "source": [
        "1<=1"
      ],
      "metadata": {
        "colab": {
          "base_uri": "https://localhost:8080/"
        },
        "id": "IPEAWcGP91g5",
        "outputId": "9f70eabc-f32e-4e27-b221-0151000124c0"
      },
      "execution_count": null,
      "outputs": [
        {
          "output_type": "execute_result",
          "data": {
            "text/plain": [
              "True"
            ]
          },
          "metadata": {},
          "execution_count": 2
        }
      ]
    },
    {
      "cell_type": "markdown",
      "source": [
        "Greater than or equal to (>=)"
      ],
      "metadata": {
        "id": "JuCmNt74d2st"
      }
    },
    {
      "cell_type": "code",
      "source": [
        "1>=3"
      ],
      "metadata": {
        "colab": {
          "base_uri": "https://localhost:8080/"
        },
        "id": "Lo7RJuVJd8Ku",
        "outputId": "e328fc8b-8c39-4de0-ff05-7df6b8357ada"
      },
      "execution_count": null,
      "outputs": [
        {
          "output_type": "execute_result",
          "data": {
            "text/plain": [
              "False"
            ]
          },
          "metadata": {},
          "execution_count": 2
        }
      ]
    },
    {
      "cell_type": "markdown",
      "source": [
        "Equal to (==)\n",
        "Compare the operand have the same values or not"
      ],
      "metadata": {
        "id": "qSHl_8baeKNc"
      }
    },
    {
      "cell_type": "code",
      "source": [
        "a=1\n",
        "b=2\n",
        "c=1\n"
      ],
      "metadata": {
        "id": "fB4xLgss-0Q_"
      },
      "execution_count": null,
      "outputs": []
    },
    {
      "cell_type": "code",
      "source": [
        "a==b"
      ],
      "metadata": {
        "colab": {
          "base_uri": "https://localhost:8080/"
        },
        "id": "Iy3PDzsp-3ey",
        "outputId": "4e0870b5-1ef4-4384-831d-9ffa48e8364f"
      },
      "execution_count": null,
      "outputs": [
        {
          "output_type": "execute_result",
          "data": {
            "text/plain": [
              "False"
            ]
          },
          "metadata": {},
          "execution_count": 3
        }
      ]
    },
    {
      "cell_type": "code",
      "source": [
        "a==c"
      ],
      "metadata": {
        "colab": {
          "base_uri": "https://localhost:8080/"
        },
        "id": "dG7hbdO2B52N",
        "outputId": "5ca49f2f-cf62-468d-e182-04d4170a0e76"
      },
      "execution_count": null,
      "outputs": [
        {
          "output_type": "execute_result",
          "data": {
            "text/plain": [
              "True"
            ]
          },
          "metadata": {},
          "execution_count": 6
        }
      ]
    },
    {
      "cell_type": "markdown",
      "source": [
        "Also can used in string data type (case sensitive)"
      ],
      "metadata": {
        "id": "tMYXhJ2zeoRn"
      }
    },
    {
      "cell_type": "code",
      "source": [
        "x=\"YAHH\"\n",
        "y=\"YAHH\"\n",
        "z=\"yahh\""
      ],
      "metadata": {
        "id": "oNfjQkYnexUH"
      },
      "execution_count": null,
      "outputs": []
    },
    {
      "cell_type": "code",
      "source": [
        "x==y"
      ],
      "metadata": {
        "colab": {
          "base_uri": "https://localhost:8080/"
        },
        "id": "7QwrKaaFe975",
        "outputId": "92d1377d-b741-40d0-a6a3-36ce5438eba8"
      },
      "execution_count": null,
      "outputs": [
        {
          "output_type": "execute_result",
          "data": {
            "text/plain": [
              "True"
            ]
          },
          "metadata": {},
          "execution_count": 10
        }
      ]
    },
    {
      "cell_type": "code",
      "source": [
        "x==z"
      ],
      "metadata": {
        "colab": {
          "base_uri": "https://localhost:8080/"
        },
        "id": "Nz6YDcWgfAP-",
        "outputId": "ad42bcd3-a6fe-49ff-aae5-2031c648ef2a"
      },
      "execution_count": null,
      "outputs": [
        {
          "output_type": "execute_result",
          "data": {
            "text/plain": [
              "False"
            ]
          },
          "metadata": {},
          "execution_count": 11
        }
      ]
    },
    {
      "cell_type": "markdown",
      "source": [
        "Not equal to (!=)\n",
        "Same concept like equal to, but will return the opposite value"
      ],
      "metadata": {
        "id": "za3vcmqwfHbD"
      }
    },
    {
      "cell_type": "code",
      "source": [
        "a!=b"
      ],
      "metadata": {
        "colab": {
          "base_uri": "https://localhost:8080/"
        },
        "id": "2B8Y4R11B-Rg",
        "outputId": "4de0de02-6603-40b0-b83a-5f8bcc3ef1fb"
      },
      "execution_count": null,
      "outputs": [
        {
          "output_type": "execute_result",
          "data": {
            "text/plain": [
              "True"
            ]
          },
          "metadata": {},
          "execution_count": 17
        }
      ]
    },
    {
      "cell_type": "code",
      "source": [
        "a==c"
      ],
      "metadata": {
        "colab": {
          "base_uri": "https://localhost:8080/"
        },
        "id": "uP47xDUSCeBC",
        "outputId": "054b0d60-1897-4a18-f7d8-82cfeb8fe7a4"
      },
      "execution_count": null,
      "outputs": [
        {
          "output_type": "execute_result",
          "data": {
            "text/plain": [
              "True"
            ]
          },
          "metadata": {},
          "execution_count": 18
        }
      ]
    },
    {
      "cell_type": "code",
      "source": [
        "a!=c"
      ],
      "metadata": {
        "colab": {
          "base_uri": "https://localhost:8080/"
        },
        "id": "FJji3DmxCf1c",
        "outputId": "d5275586-9118-4efd-b768-b4f611b4cbbc"
      },
      "execution_count": null,
      "outputs": [
        {
          "output_type": "execute_result",
          "data": {
            "text/plain": [
              "False"
            ]
          },
          "metadata": {},
          "execution_count": 20
        }
      ]
    },
    {
      "cell_type": "code",
      "source": [
        "a>b"
      ],
      "metadata": {
        "colab": {
          "base_uri": "https://localhost:8080/"
        },
        "id": "EYarnCWFCOZP",
        "outputId": "3a4e3f54-6200-45f1-9bf0-c3704ac2c62a"
      },
      "execution_count": null,
      "outputs": [
        {
          "output_type": "execute_result",
          "data": {
            "text/plain": [
              "False"
            ]
          },
          "metadata": {},
          "execution_count": 12
        }
      ]
    },
    {
      "cell_type": "code",
      "source": [
        "b<=a"
      ],
      "metadata": {
        "colab": {
          "base_uri": "https://localhost:8080/"
        },
        "id": "-xnIabxHCR0_",
        "outputId": "40096713-9f96-40bb-dc14-3f28a0f99160"
      },
      "execution_count": null,
      "outputs": [
        {
          "output_type": "execute_result",
          "data": {
            "text/plain": [
              "False"
            ]
          },
          "metadata": {},
          "execution_count": 14
        }
      ]
    },
    {
      "cell_type": "code",
      "source": [
        "b>=a"
      ],
      "metadata": {
        "colab": {
          "base_uri": "https://localhost:8080/"
        },
        "id": "cslGJmVvCVgq",
        "outputId": "f053bfa5-dec0-42c1-8eff-bcf93e181310"
      },
      "execution_count": null,
      "outputs": [
        {
          "output_type": "execute_result",
          "data": {
            "text/plain": [
              "True"
            ]
          },
          "metadata": {},
          "execution_count": 15
        }
      ]
    },
    {
      "cell_type": "markdown",
      "source": [
        "Boolean Operator\n",
        "(Not)\n",
        "\n",
        "Not function will return the opposite values from operand"
      ],
      "metadata": {
        "id": "qDuLwbIGoyj9"
      }
    },
    {
      "cell_type": "code",
      "source": [
        "e= True\n",
        "not e"
      ],
      "metadata": {
        "id": "0FRUjSiNOHe8",
        "colab": {
          "base_uri": "https://localhost:8080/"
        },
        "outputId": "967195e4-3718-4d78-d6d6-e4d038607975"
      },
      "execution_count": null,
      "outputs": [
        {
          "output_type": "execute_result",
          "data": {
            "text/plain": [
              "False"
            ]
          },
          "metadata": {},
          "execution_count": 13
        }
      ]
    },
    {
      "cell_type": "markdown",
      "source": [
        "(AND)\n",
        "\n",
        "And function will return true if two operand have true values \n"
      ],
      "metadata": {
        "id": "Or21nZ36pkZp"
      }
    },
    {
      "cell_type": "code",
      "source": [
        "e=True\n",
        "f=False\n",
        "e and f"
      ],
      "metadata": {
        "colab": {
          "base_uri": "https://localhost:8080/"
        },
        "id": "KuAHT-VsqFkv",
        "outputId": "1e336cde-721a-445c-bce9-c39c51128368"
      },
      "execution_count": null,
      "outputs": [
        {
          "output_type": "execute_result",
          "data": {
            "text/plain": [
              "False"
            ]
          },
          "metadata": {},
          "execution_count": 14
        }
      ]
    },
    {
      "cell_type": "markdown",
      "source": [
        "(OR)\n",
        "\n",
        "Or function will return true if one of the operand have true values\n"
      ],
      "metadata": {
        "id": "HRF2MDZeqsWJ"
      }
    },
    {
      "cell_type": "code",
      "source": [
        "e or f"
      ],
      "metadata": {
        "colab": {
          "base_uri": "https://localhost:8080/"
        },
        "id": "BnoV3MNFqfP_",
        "outputId": "499b98b8-3e47-4d33-d504-1a4e79f0bad7"
      },
      "execution_count": null,
      "outputs": [
        {
          "output_type": "execute_result",
          "data": {
            "text/plain": [
              "True"
            ]
          },
          "metadata": {},
          "execution_count": 16
        }
      ]
    },
    {
      "cell_type": "markdown",
      "source": [
        "Conditional Expression\n",
        "\n",
        "IF\n",
        "\n",
        "With if, the decision will determined by the boolean values of the expression. If the expression true so statement block under expression will be executed\n"
      ],
      "metadata": {
        "id": "6mAQ81T5we8D"
      }
    },
    {
      "cell_type": "markdown",
      "source": [
        "ELSE\n",
        "\n",
        "Else just can be used if there is statement if before. Else is optional and single use"
      ],
      "metadata": {
        "id": "D2SMlAHdxXzf"
      }
    },
    {
      "cell_type": "markdown",
      "source": [
        "ELIF\n",
        "\n",
        "Elif is the short of ‘else if’. This statement used to alternative of nested if. Elif is optional and unlimited"
      ],
      "metadata": {
        "id": "fg2wwGTVxyoN"
      }
    },
    {
      "cell_type": "code",
      "source": [
        "nilai=int(input(\"Masukan nilai :\"))\n",
        "if nilai >=80: print(\"Sangat baik\")\n",
        "elif nilai>=70: print(\"Baik\")\n",
        "elif nilai>=60: print(\"Cukup baik\")\n",
        "else : print(\"remed\")"
      ],
      "metadata": {
        "colab": {
          "base_uri": "https://localhost:8080/"
        },
        "id": "IDoEuJ3cWTVD",
        "outputId": "39d78efc-dd71-45cf-ff0e-b0eca44276ac"
      },
      "execution_count": null,
      "outputs": [
        {
          "output_type": "stream",
          "name": "stdout",
          "text": [
            "Masukan nilai :60\n",
            "Cukup baik\n"
          ]
        }
      ]
    }
  ]
}